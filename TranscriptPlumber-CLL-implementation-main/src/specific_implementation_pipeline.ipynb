{
 "cells": [
  {
   "cell_type": "code",
   "execution_count": 1,
   "metadata": {},
   "outputs": [],
   "source": [
    "import pandas as pd\n",
    "import numpy as np\n",
    "from tqdm import tqdm\n",
    "import plotly.express as px\n",
    "from scipy.stats import ttest_ind\n",
    "from sklearn.decomposition import PCA\n",
    "import pickle\n",
    "import seaborn as sns\n",
    "import matplotlib.pyplot as plt\n",
    "import scipy.cluster.hierarchy as hc\n",
    "from scipy.spatial import distance\n",
    "import plotly.graph_objects as go\n",
    "from plotly.subplots import make_subplots\n",
    "# import dash_bio\n",
    "import statsmodels.api as sm\n",
    "\n",
    "# set infinite display\n",
    "pd.set_option('display.max_rows', None)\n",
    "pd.set_option('display.max_columns', None)\n",
    "pd.set_option('display.width', None)\n",
    "\n",
    "# allow tqdm to chart pandas progress\n",
    "tqdm.pandas()"
   ]
  },
  {
   "cell_type": "markdown",
   "metadata": {},
   "source": [
    "## This notebook contains the pipeline and all of its constituent tools.\n",
    "\n",
    "### The dataframes need some further processing before the pipeline can run on them."
   ]
  },
  {
   "cell_type": "code",
   "execution_count": 2,
   "metadata": {},
   "outputs": [],
   "source": [
    "# import the TPM dataframe for the majority of the pipeline\n",
    "TPM = pd.read_csv('../../results/TPM.tsv', sep='\\t', index_col=0)"
   ]
  },
  {
   "cell_type": "markdown",
   "metadata": {},
   "source": [
    "### Processing the TPM dataframe for the statistical tools"
   ]
  },
  {
   "cell_type": "code",
   "execution_count": 3,
   "metadata": {},
   "outputs": [
    {
     "data": {
      "text/html": [
       "<div>\n",
       "<style scoped>\n",
       "    .dataframe tbody tr th:only-of-type {\n",
       "        vertical-align: middle;\n",
       "    }\n",
       "\n",
       "    .dataframe tbody tr th {\n",
       "        vertical-align: top;\n",
       "    }\n",
       "\n",
       "    .dataframe thead th {\n",
       "        text-align: right;\n",
       "    }\n",
       "</style>\n",
       "<table border=\"1\" class=\"dataframe\">\n",
       "  <thead>\n",
       "    <tr style=\"text-align: right;\">\n",
       "      <th>Name</th>\n",
       "      <th>read_group_id</th>\n",
       "      <th>ENSMUST00000196221.2</th>\n",
       "      <th>ENSMUST00000179664.2</th>\n",
       "      <th>ENSMUST00000177564.2</th>\n",
       "      <th>ENSMUST00000178537.2</th>\n",
       "      <th>ENSMUST00000178862.2</th>\n",
       "      <th>ENSMUST00000179520.2</th>\n",
       "      <th>ENSMUST00000179883.2</th>\n",
       "      <th>ENSMUST00000195858.2</th>\n",
       "      <th>ENSMUST00000179932.2</th>\n",
       "    </tr>\n",
       "  </thead>\n",
       "  <tbody>\n",
       "    <tr>\n",
       "      <th>0</th>\n",
       "      <td>SRR16522870_GSM5639190_RS24_RNA-seq_Mus_muscul...</td>\n",
       "      <td>0.0</td>\n",
       "      <td>0.0</td>\n",
       "      <td>0.0</td>\n",
       "      <td>0.0</td>\n",
       "      <td>0.0</td>\n",
       "      <td>0.0</td>\n",
       "      <td>0.0</td>\n",
       "      <td>0.0</td>\n",
       "      <td>0.0</td>\n",
       "    </tr>\n",
       "    <tr>\n",
       "      <th>1</th>\n",
       "      <td>SRR16522866_GSM5639186_RS11_RNA-seq_Mus_muscul...</td>\n",
       "      <td>0.0</td>\n",
       "      <td>0.0</td>\n",
       "      <td>0.0</td>\n",
       "      <td>0.0</td>\n",
       "      <td>0.0</td>\n",
       "      <td>0.0</td>\n",
       "      <td>0.0</td>\n",
       "      <td>0.0</td>\n",
       "      <td>0.0</td>\n",
       "    </tr>\n",
       "    <tr>\n",
       "      <th>2</th>\n",
       "      <td>SRR16522874_GSM5639194_RS5_RNA-seq_Mus_musculu...</td>\n",
       "      <td>0.0</td>\n",
       "      <td>0.0</td>\n",
       "      <td>0.0</td>\n",
       "      <td>0.0</td>\n",
       "      <td>0.0</td>\n",
       "      <td>0.0</td>\n",
       "      <td>0.0</td>\n",
       "      <td>0.0</td>\n",
       "      <td>0.0</td>\n",
       "    </tr>\n",
       "    <tr>\n",
       "      <th>3</th>\n",
       "      <td>SRR16522873_GSM5639193_RS4_T_RNA-seq_Mus_muscu...</td>\n",
       "      <td>0.0</td>\n",
       "      <td>0.0</td>\n",
       "      <td>0.0</td>\n",
       "      <td>0.0</td>\n",
       "      <td>0.0</td>\n",
       "      <td>0.0</td>\n",
       "      <td>0.0</td>\n",
       "      <td>0.0</td>\n",
       "      <td>0.0</td>\n",
       "    </tr>\n",
       "    <tr>\n",
       "      <th>4</th>\n",
       "      <td>SRR16522868_GSM5639188_RS18_RNA-seq_Mus_muscul...</td>\n",
       "      <td>0.0</td>\n",
       "      <td>0.0</td>\n",
       "      <td>0.0</td>\n",
       "      <td>0.0</td>\n",
       "      <td>0.0</td>\n",
       "      <td>0.0</td>\n",
       "      <td>0.0</td>\n",
       "      <td>0.0</td>\n",
       "      <td>0.0</td>\n",
       "    </tr>\n",
       "  </tbody>\n",
       "</table>\n",
       "</div>"
      ],
      "text/plain": [
       "Name                                      read_group_id  ENSMUST00000196221.2  \\\n",
       "0     SRR16522870_GSM5639190_RS24_RNA-seq_Mus_muscul...                   0.0   \n",
       "1     SRR16522866_GSM5639186_RS11_RNA-seq_Mus_muscul...                   0.0   \n",
       "2     SRR16522874_GSM5639194_RS5_RNA-seq_Mus_musculu...                   0.0   \n",
       "3     SRR16522873_GSM5639193_RS4_T_RNA-seq_Mus_muscu...                   0.0   \n",
       "4     SRR16522868_GSM5639188_RS18_RNA-seq_Mus_muscul...                   0.0   \n",
       "\n",
       "Name  ENSMUST00000179664.2  ENSMUST00000177564.2  ENSMUST00000178537.2  \\\n",
       "0                      0.0                   0.0                   0.0   \n",
       "1                      0.0                   0.0                   0.0   \n",
       "2                      0.0                   0.0                   0.0   \n",
       "3                      0.0                   0.0                   0.0   \n",
       "4                      0.0                   0.0                   0.0   \n",
       "\n",
       "Name  ENSMUST00000178862.2  ENSMUST00000179520.2  ENSMUST00000179883.2  \\\n",
       "0                      0.0                   0.0                   0.0   \n",
       "1                      0.0                   0.0                   0.0   \n",
       "2                      0.0                   0.0                   0.0   \n",
       "3                      0.0                   0.0                   0.0   \n",
       "4                      0.0                   0.0                   0.0   \n",
       "\n",
       "Name  ENSMUST00000195858.2  ENSMUST00000179932.2  \n",
       "0                      0.0                   0.0  \n",
       "1                      0.0                   0.0  \n",
       "2                      0.0                   0.0  \n",
       "3                      0.0                   0.0  \n",
       "4                      0.0                   0.0  "
      ]
     },
     "execution_count": 3,
     "metadata": {},
     "output_type": "execute_result"
    }
   ],
   "source": [
    "# transpose the dataframe\n",
    "TPM = TPM.T\n",
    "# rename TPM index to read_group_id\n",
    "TPM.index.names = ['read_group_id']\n",
    "# turn the index into a column\n",
    "TPM.reset_index(inplace=True)\n",
    "# preview the dataframe only showing the first 10 columns\n",
    "TPM.iloc[:, :10].head()"
   ]
  },
  {
   "cell_type": "code",
   "execution_count": 4,
   "metadata": {},
   "outputs": [],
   "source": [
    "# sum of TPM values for each transcript\n",
    "TPM_sum = TPM.iloc[:, 1:].sum(axis=0)"
   ]
  },
  {
   "cell_type": "code",
   "execution_count": 5,
   "metadata": {},
   "outputs": [],
   "source": [
    "# remove all rows in TPM_sum that have values below the 95th percentile\n",
    "TPM_sum_threshold = TPM_sum[TPM_sum > TPM_sum.quantile(0.05)]"
   ]
  },
  {
   "cell_type": "code",
   "execution_count": 6,
   "metadata": {},
   "outputs": [
    {
     "name": "stdout",
     "output_type": "stream",
     "text": [
      "(115299,)\n",
      "(99469,)\n"
     ]
    }
   ],
   "source": [
    "# compare shapes of the two dataframes\n",
    "print(TPM_sum.shape)\n",
    "print(TPM_sum_threshold.shape)"
   ]
  },
  {
   "cell_type": "code",
   "execution_count": 7,
   "metadata": {},
   "outputs": [],
   "source": [
    "# Create a list of columns to keep\n",
    "columns_to_keep = ['read_group_id'] + [col for col in TPM.columns[1:] if col in TPM_sum_threshold.index]\n",
    "\n",
    "# Create a copy of TPM dataframe with only the desired columns\n",
    "TPM_copy = TPM[columns_to_keep].copy()"
   ]
  },
  {
   "cell_type": "code",
   "execution_count": 8,
   "metadata": {},
   "outputs": [
    {
     "name": "stdout",
     "output_type": "stream",
     "text": [
      "(24, 115300)\n",
      "(24, 99470)\n"
     ]
    }
   ],
   "source": [
    "# compare shapes of the two dataframes\n",
    "print(TPM.shape)\n",
    "print(TPM_copy.shape)"
   ]
  },
  {
   "cell_type": "code",
   "execution_count": 9,
   "metadata": {},
   "outputs": [],
   "source": [
    "# make a TPM backup\n",
    "TPM_backup = TPM.copy()\n",
    "# replace TPM with TPM_copy\n",
    "TPM = TPM_copy"
   ]
  },
  {
   "cell_type": "code",
   "execution_count": 10,
   "metadata": {},
   "outputs": [
    {
     "data": {
      "text/html": [
       "<div>\n",
       "<style scoped>\n",
       "    .dataframe tbody tr th:only-of-type {\n",
       "        vertical-align: middle;\n",
       "    }\n",
       "\n",
       "    .dataframe tbody tr th {\n",
       "        vertical-align: top;\n",
       "    }\n",
       "\n",
       "    .dataframe thead th {\n",
       "        text-align: right;\n",
       "    }\n",
       "</style>\n",
       "<table border=\"1\" class=\"dataframe\">\n",
       "  <thead>\n",
       "    <tr style=\"text-align: right;\">\n",
       "      <th></th>\n",
       "      <th>Run</th>\n",
       "      <th>source_name</th>\n",
       "      <th>cell_type</th>\n",
       "      <th>condition</th>\n",
       "    </tr>\n",
       "  </thead>\n",
       "  <tbody>\n",
       "    <tr>\n",
       "      <th>0</th>\n",
       "      <td>SRR16522866</td>\n",
       "      <td>RS</td>\n",
       "      <td>Malignant B cells</td>\n",
       "      <td>RS</td>\n",
       "    </tr>\n",
       "    <tr>\n",
       "      <th>1</th>\n",
       "      <td>SRR16522867</td>\n",
       "      <td>RS</td>\n",
       "      <td>Malignant B cells</td>\n",
       "      <td>RS</td>\n",
       "    </tr>\n",
       "    <tr>\n",
       "      <th>2</th>\n",
       "      <td>SRR16522868</td>\n",
       "      <td>RS</td>\n",
       "      <td>Malignant B cells</td>\n",
       "      <td>RS</td>\n",
       "    </tr>\n",
       "    <tr>\n",
       "      <th>3</th>\n",
       "      <td>SRR16522869</td>\n",
       "      <td>RS</td>\n",
       "      <td>Malignant B cells</td>\n",
       "      <td>RS</td>\n",
       "    </tr>\n",
       "    <tr>\n",
       "      <th>4</th>\n",
       "      <td>SRR16522870</td>\n",
       "      <td>RS</td>\n",
       "      <td>Malignant B cells</td>\n",
       "      <td>RS</td>\n",
       "    </tr>\n",
       "    <tr>\n",
       "      <th>5</th>\n",
       "      <td>SRR16522871</td>\n",
       "      <td>RS</td>\n",
       "      <td>Malignant B cells</td>\n",
       "      <td>RS</td>\n",
       "    </tr>\n",
       "    <tr>\n",
       "      <th>6</th>\n",
       "      <td>SRR16522872</td>\n",
       "      <td>RS</td>\n",
       "      <td>Malignant B cells</td>\n",
       "      <td>RS</td>\n",
       "    </tr>\n",
       "    <tr>\n",
       "      <th>7</th>\n",
       "      <td>SRR16522873</td>\n",
       "      <td>RS</td>\n",
       "      <td>Malignant B cells</td>\n",
       "      <td>RS</td>\n",
       "    </tr>\n",
       "    <tr>\n",
       "      <th>8</th>\n",
       "      <td>SRR16522874</td>\n",
       "      <td>RS</td>\n",
       "      <td>Malignant B cells</td>\n",
       "      <td>RS</td>\n",
       "    </tr>\n",
       "    <tr>\n",
       "      <th>9</th>\n",
       "      <td>SRR16522875</td>\n",
       "      <td>RS</td>\n",
       "      <td>Malignant B cells</td>\n",
       "      <td>RS</td>\n",
       "    </tr>\n",
       "    <tr>\n",
       "      <th>10</th>\n",
       "      <td>SRR16522876</td>\n",
       "      <td>RS</td>\n",
       "      <td>Malignant B cells</td>\n",
       "      <td>RS</td>\n",
       "    </tr>\n",
       "    <tr>\n",
       "      <th>11</th>\n",
       "      <td>SRR16522881</td>\n",
       "      <td>B cell</td>\n",
       "      <td>Splenic B cell</td>\n",
       "      <td>normal</td>\n",
       "    </tr>\n",
       "    <tr>\n",
       "      <th>12</th>\n",
       "      <td>SRR16522882</td>\n",
       "      <td>B cell</td>\n",
       "      <td>Splenic B cell</td>\n",
       "      <td>normal</td>\n",
       "    </tr>\n",
       "    <tr>\n",
       "      <th>13</th>\n",
       "      <td>SRR16522883</td>\n",
       "      <td>B cell</td>\n",
       "      <td>Splenic B cell</td>\n",
       "      <td>normal</td>\n",
       "    </tr>\n",
       "    <tr>\n",
       "      <th>14</th>\n",
       "      <td>SRR16522884</td>\n",
       "      <td>B cell</td>\n",
       "      <td>Splenic B cell</td>\n",
       "      <td>normal</td>\n",
       "    </tr>\n",
       "    <tr>\n",
       "      <th>15</th>\n",
       "      <td>SRR16522885</td>\n",
       "      <td>CLL</td>\n",
       "      <td>Malignant B cells</td>\n",
       "      <td>CLL</td>\n",
       "    </tr>\n",
       "    <tr>\n",
       "      <th>16</th>\n",
       "      <td>SRR16522886</td>\n",
       "      <td>CLL</td>\n",
       "      <td>Malignant B cells</td>\n",
       "      <td>CLL</td>\n",
       "    </tr>\n",
       "    <tr>\n",
       "      <th>17</th>\n",
       "      <td>SRR16522887</td>\n",
       "      <td>CLL</td>\n",
       "      <td>Malignant B cells</td>\n",
       "      <td>CLL</td>\n",
       "    </tr>\n",
       "    <tr>\n",
       "      <th>18</th>\n",
       "      <td>SRR16522888</td>\n",
       "      <td>CLL</td>\n",
       "      <td>Malignant B cells</td>\n",
       "      <td>CLL</td>\n",
       "    </tr>\n",
       "    <tr>\n",
       "      <th>19</th>\n",
       "      <td>SRR16522889</td>\n",
       "      <td>CLL</td>\n",
       "      <td>Malignant B cells</td>\n",
       "      <td>CLL</td>\n",
       "    </tr>\n",
       "    <tr>\n",
       "      <th>20</th>\n",
       "      <td>SRR16522890</td>\n",
       "      <td>CLL_RS2</td>\n",
       "      <td>Malignant B cells</td>\n",
       "      <td>CLL</td>\n",
       "    </tr>\n",
       "    <tr>\n",
       "      <th>21</th>\n",
       "      <td>SRR16522891</td>\n",
       "      <td>CLL_RS4</td>\n",
       "      <td>Malignant B cells</td>\n",
       "      <td>CLL</td>\n",
       "    </tr>\n",
       "    <tr>\n",
       "      <th>22</th>\n",
       "      <td>SRR16522892</td>\n",
       "      <td>CLL_RS6</td>\n",
       "      <td>Malignant B cells</td>\n",
       "      <td>CLL</td>\n",
       "    </tr>\n",
       "    <tr>\n",
       "      <th>23</th>\n",
       "      <td>SRR16522893</td>\n",
       "      <td>CLL_RS7</td>\n",
       "      <td>Malignant B cells</td>\n",
       "      <td>CLL</td>\n",
       "    </tr>\n",
       "  </tbody>\n",
       "</table>\n",
       "</div>"
      ],
      "text/plain": [
       "            Run source_name          cell_type condition\n",
       "0   SRR16522866          RS  Malignant B cells        RS\n",
       "1   SRR16522867          RS  Malignant B cells        RS\n",
       "2   SRR16522868          RS  Malignant B cells        RS\n",
       "3   SRR16522869          RS  Malignant B cells        RS\n",
       "4   SRR16522870          RS  Malignant B cells        RS\n",
       "5   SRR16522871          RS  Malignant B cells        RS\n",
       "6   SRR16522872          RS  Malignant B cells        RS\n",
       "7   SRR16522873          RS  Malignant B cells        RS\n",
       "8   SRR16522874          RS  Malignant B cells        RS\n",
       "9   SRR16522875          RS  Malignant B cells        RS\n",
       "10  SRR16522876          RS  Malignant B cells        RS\n",
       "11  SRR16522881      B cell     Splenic B cell    normal\n",
       "12  SRR16522882      B cell     Splenic B cell    normal\n",
       "13  SRR16522883      B cell     Splenic B cell    normal\n",
       "14  SRR16522884      B cell     Splenic B cell    normal\n",
       "15  SRR16522885         CLL  Malignant B cells       CLL\n",
       "16  SRR16522886         CLL  Malignant B cells       CLL\n",
       "17  SRR16522887         CLL  Malignant B cells       CLL\n",
       "18  SRR16522888         CLL  Malignant B cells       CLL\n",
       "19  SRR16522889         CLL  Malignant B cells       CLL\n",
       "20  SRR16522890     CLL_RS2  Malignant B cells       CLL\n",
       "21  SRR16522891     CLL_RS4  Malignant B cells       CLL\n",
       "22  SRR16522892     CLL_RS6  Malignant B cells       CLL\n",
       "23  SRR16522893     CLL_RS7  Malignant B cells       CLL"
      ]
     },
     "execution_count": 10,
     "metadata": {},
     "output_type": "execute_result"
    }
   ],
   "source": [
    "#load metadata dataframe\n",
    "metadata = pd.read_csv('../../results/metadata.tsv', sep='\\t')\n",
    "#preview the dataframe only showing the first 10 columns\n",
    "metadata"
   ]
  },
  {
   "cell_type": "code",
   "execution_count": 11,
   "metadata": {},
   "outputs": [],
   "source": [
    "# replace CLL_RS2, CLL_RS4, CLL_RS6, CLL_RS7 with CLL_RS\n",
    "metadata['source_name'] = metadata['source_name'].replace(['CLL_RS2', 'CLL_RS4', 'CLL_RS6', 'CLL_RS7'], 'CLL_RS')"
   ]
  },
  {
   "cell_type": "code",
   "execution_count": 12,
   "metadata": {},
   "outputs": [
    {
     "data": {
      "text/html": [
       "<div>\n",
       "<style scoped>\n",
       "    .dataframe tbody tr th:only-of-type {\n",
       "        vertical-align: middle;\n",
       "    }\n",
       "\n",
       "    .dataframe tbody tr th {\n",
       "        vertical-align: top;\n",
       "    }\n",
       "\n",
       "    .dataframe thead th {\n",
       "        text-align: right;\n",
       "    }\n",
       "</style>\n",
       "<table border=\"1\" class=\"dataframe\">\n",
       "  <thead>\n",
       "    <tr style=\"text-align: right;\">\n",
       "      <th></th>\n",
       "      <th>Run</th>\n",
       "      <th>source_name</th>\n",
       "      <th>cell_type</th>\n",
       "      <th>condition</th>\n",
       "    </tr>\n",
       "  </thead>\n",
       "  <tbody>\n",
       "    <tr>\n",
       "      <th>0</th>\n",
       "      <td>SRR16522866</td>\n",
       "      <td>RS</td>\n",
       "      <td>Malignant B cells</td>\n",
       "      <td>RS</td>\n",
       "    </tr>\n",
       "    <tr>\n",
       "      <th>1</th>\n",
       "      <td>SRR16522867</td>\n",
       "      <td>RS</td>\n",
       "      <td>Malignant B cells</td>\n",
       "      <td>RS</td>\n",
       "    </tr>\n",
       "    <tr>\n",
       "      <th>2</th>\n",
       "      <td>SRR16522868</td>\n",
       "      <td>RS</td>\n",
       "      <td>Malignant B cells</td>\n",
       "      <td>RS</td>\n",
       "    </tr>\n",
       "    <tr>\n",
       "      <th>3</th>\n",
       "      <td>SRR16522869</td>\n",
       "      <td>RS</td>\n",
       "      <td>Malignant B cells</td>\n",
       "      <td>RS</td>\n",
       "    </tr>\n",
       "    <tr>\n",
       "      <th>4</th>\n",
       "      <td>SRR16522870</td>\n",
       "      <td>RS</td>\n",
       "      <td>Malignant B cells</td>\n",
       "      <td>RS</td>\n",
       "    </tr>\n",
       "    <tr>\n",
       "      <th>5</th>\n",
       "      <td>SRR16522871</td>\n",
       "      <td>RS</td>\n",
       "      <td>Malignant B cells</td>\n",
       "      <td>RS</td>\n",
       "    </tr>\n",
       "    <tr>\n",
       "      <th>6</th>\n",
       "      <td>SRR16522872</td>\n",
       "      <td>RS</td>\n",
       "      <td>Malignant B cells</td>\n",
       "      <td>RS</td>\n",
       "    </tr>\n",
       "    <tr>\n",
       "      <th>7</th>\n",
       "      <td>SRR16522873</td>\n",
       "      <td>RS</td>\n",
       "      <td>Malignant B cells</td>\n",
       "      <td>RS</td>\n",
       "    </tr>\n",
       "    <tr>\n",
       "      <th>8</th>\n",
       "      <td>SRR16522874</td>\n",
       "      <td>RS</td>\n",
       "      <td>Malignant B cells</td>\n",
       "      <td>RS</td>\n",
       "    </tr>\n",
       "    <tr>\n",
       "      <th>9</th>\n",
       "      <td>SRR16522875</td>\n",
       "      <td>RS</td>\n",
       "      <td>Malignant B cells</td>\n",
       "      <td>RS</td>\n",
       "    </tr>\n",
       "    <tr>\n",
       "      <th>10</th>\n",
       "      <td>SRR16522876</td>\n",
       "      <td>RS</td>\n",
       "      <td>Malignant B cells</td>\n",
       "      <td>RS</td>\n",
       "    </tr>\n",
       "    <tr>\n",
       "      <th>11</th>\n",
       "      <td>SRR16522881</td>\n",
       "      <td>B cell</td>\n",
       "      <td>Splenic B cell</td>\n",
       "      <td>normal</td>\n",
       "    </tr>\n",
       "    <tr>\n",
       "      <th>12</th>\n",
       "      <td>SRR16522882</td>\n",
       "      <td>B cell</td>\n",
       "      <td>Splenic B cell</td>\n",
       "      <td>normal</td>\n",
       "    </tr>\n",
       "    <tr>\n",
       "      <th>13</th>\n",
       "      <td>SRR16522883</td>\n",
       "      <td>B cell</td>\n",
       "      <td>Splenic B cell</td>\n",
       "      <td>normal</td>\n",
       "    </tr>\n",
       "    <tr>\n",
       "      <th>14</th>\n",
       "      <td>SRR16522884</td>\n",
       "      <td>B cell</td>\n",
       "      <td>Splenic B cell</td>\n",
       "      <td>normal</td>\n",
       "    </tr>\n",
       "    <tr>\n",
       "      <th>15</th>\n",
       "      <td>SRR16522885</td>\n",
       "      <td>CLL</td>\n",
       "      <td>Malignant B cells</td>\n",
       "      <td>CLL</td>\n",
       "    </tr>\n",
       "    <tr>\n",
       "      <th>16</th>\n",
       "      <td>SRR16522886</td>\n",
       "      <td>CLL</td>\n",
       "      <td>Malignant B cells</td>\n",
       "      <td>CLL</td>\n",
       "    </tr>\n",
       "    <tr>\n",
       "      <th>17</th>\n",
       "      <td>SRR16522887</td>\n",
       "      <td>CLL</td>\n",
       "      <td>Malignant B cells</td>\n",
       "      <td>CLL</td>\n",
       "    </tr>\n",
       "    <tr>\n",
       "      <th>18</th>\n",
       "      <td>SRR16522888</td>\n",
       "      <td>CLL</td>\n",
       "      <td>Malignant B cells</td>\n",
       "      <td>CLL</td>\n",
       "    </tr>\n",
       "    <tr>\n",
       "      <th>19</th>\n",
       "      <td>SRR16522889</td>\n",
       "      <td>CLL</td>\n",
       "      <td>Malignant B cells</td>\n",
       "      <td>CLL</td>\n",
       "    </tr>\n",
       "    <tr>\n",
       "      <th>20</th>\n",
       "      <td>SRR16522890</td>\n",
       "      <td>CLL_RS</td>\n",
       "      <td>Malignant B cells</td>\n",
       "      <td>CLL</td>\n",
       "    </tr>\n",
       "    <tr>\n",
       "      <th>21</th>\n",
       "      <td>SRR16522891</td>\n",
       "      <td>CLL_RS</td>\n",
       "      <td>Malignant B cells</td>\n",
       "      <td>CLL</td>\n",
       "    </tr>\n",
       "    <tr>\n",
       "      <th>22</th>\n",
       "      <td>SRR16522892</td>\n",
       "      <td>CLL_RS</td>\n",
       "      <td>Malignant B cells</td>\n",
       "      <td>CLL</td>\n",
       "    </tr>\n",
       "    <tr>\n",
       "      <th>23</th>\n",
       "      <td>SRR16522893</td>\n",
       "      <td>CLL_RS</td>\n",
       "      <td>Malignant B cells</td>\n",
       "      <td>CLL</td>\n",
       "    </tr>\n",
       "  </tbody>\n",
       "</table>\n",
       "</div>"
      ],
      "text/plain": [
       "            Run source_name          cell_type condition\n",
       "0   SRR16522866          RS  Malignant B cells        RS\n",
       "1   SRR16522867          RS  Malignant B cells        RS\n",
       "2   SRR16522868          RS  Malignant B cells        RS\n",
       "3   SRR16522869          RS  Malignant B cells        RS\n",
       "4   SRR16522870          RS  Malignant B cells        RS\n",
       "5   SRR16522871          RS  Malignant B cells        RS\n",
       "6   SRR16522872          RS  Malignant B cells        RS\n",
       "7   SRR16522873          RS  Malignant B cells        RS\n",
       "8   SRR16522874          RS  Malignant B cells        RS\n",
       "9   SRR16522875          RS  Malignant B cells        RS\n",
       "10  SRR16522876          RS  Malignant B cells        RS\n",
       "11  SRR16522881      B cell     Splenic B cell    normal\n",
       "12  SRR16522882      B cell     Splenic B cell    normal\n",
       "13  SRR16522883      B cell     Splenic B cell    normal\n",
       "14  SRR16522884      B cell     Splenic B cell    normal\n",
       "15  SRR16522885         CLL  Malignant B cells       CLL\n",
       "16  SRR16522886         CLL  Malignant B cells       CLL\n",
       "17  SRR16522887         CLL  Malignant B cells       CLL\n",
       "18  SRR16522888         CLL  Malignant B cells       CLL\n",
       "19  SRR16522889         CLL  Malignant B cells       CLL\n",
       "20  SRR16522890      CLL_RS  Malignant B cells       CLL\n",
       "21  SRR16522891      CLL_RS  Malignant B cells       CLL\n",
       "22  SRR16522892      CLL_RS  Malignant B cells       CLL\n",
       "23  SRR16522893      CLL_RS  Malignant B cells       CLL"
      ]
     },
     "execution_count": 12,
     "metadata": {},
     "output_type": "execute_result"
    }
   ],
   "source": [
    "metadata"
   ]
  },
  {
   "cell_type": "code",
   "execution_count": 13,
   "metadata": {},
   "outputs": [
    {
     "data": {
      "text/html": [
       "<div>\n",
       "<style scoped>\n",
       "    .dataframe tbody tr th:only-of-type {\n",
       "        vertical-align: middle;\n",
       "    }\n",
       "\n",
       "    .dataframe tbody tr th {\n",
       "        vertical-align: top;\n",
       "    }\n",
       "\n",
       "    .dataframe thead th {\n",
       "        text-align: right;\n",
       "    }\n",
       "</style>\n",
       "<table border=\"1\" class=\"dataframe\">\n",
       "  <thead>\n",
       "    <tr style=\"text-align: right;\">\n",
       "      <th></th>\n",
       "      <th>read_group_id</th>\n",
       "      <th>ENSMUST00000103569</th>\n",
       "      <th>ENSMUST00000103570</th>\n",
       "      <th>ENSMUST00000103571</th>\n",
       "      <th>ENSMUST00000198019</th>\n",
       "      <th>ENSMUST00000179789</th>\n",
       "      <th>ENSMUST00000178768</th>\n",
       "      <th>ENSMUST00000103580</th>\n",
       "      <th>ENSMUST00000103646</th>\n",
       "      <th>ENSMUST00000197754</th>\n",
       "    </tr>\n",
       "  </thead>\n",
       "  <tbody>\n",
       "    <tr>\n",
       "      <th>0</th>\n",
       "      <td>SRR16522870_GSM5639190_RS24_RNA-seq_Mus_muscul...</td>\n",
       "      <td>0.0</td>\n",
       "      <td>0.000000</td>\n",
       "      <td>0.000000</td>\n",
       "      <td>0.0</td>\n",
       "      <td>0.0</td>\n",
       "      <td>0.0</td>\n",
       "      <td>0.0</td>\n",
       "      <td>0.0</td>\n",
       "      <td>0.0</td>\n",
       "    </tr>\n",
       "    <tr>\n",
       "      <th>1</th>\n",
       "      <td>SRR16522866_GSM5639186_RS11_RNA-seq_Mus_muscul...</td>\n",
       "      <td>0.0</td>\n",
       "      <td>0.000000</td>\n",
       "      <td>0.000000</td>\n",
       "      <td>0.0</td>\n",
       "      <td>0.0</td>\n",
       "      <td>0.0</td>\n",
       "      <td>0.0</td>\n",
       "      <td>0.0</td>\n",
       "      <td>0.0</td>\n",
       "    </tr>\n",
       "    <tr>\n",
       "      <th>2</th>\n",
       "      <td>SRR16522874_GSM5639194_RS5_RNA-seq_Mus_musculu...</td>\n",
       "      <td>0.0</td>\n",
       "      <td>0.994226</td>\n",
       "      <td>0.204338</td>\n",
       "      <td>0.0</td>\n",
       "      <td>0.0</td>\n",
       "      <td>0.0</td>\n",
       "      <td>0.0</td>\n",
       "      <td>0.0</td>\n",
       "      <td>0.0</td>\n",
       "    </tr>\n",
       "    <tr>\n",
       "      <th>3</th>\n",
       "      <td>SRR16522873_GSM5639193_RS4_T_RNA-seq_Mus_muscu...</td>\n",
       "      <td>0.0</td>\n",
       "      <td>0.000000</td>\n",
       "      <td>0.000000</td>\n",
       "      <td>0.0</td>\n",
       "      <td>0.0</td>\n",
       "      <td>0.0</td>\n",
       "      <td>0.0</td>\n",
       "      <td>0.0</td>\n",
       "      <td>0.0</td>\n",
       "    </tr>\n",
       "    <tr>\n",
       "      <th>4</th>\n",
       "      <td>SRR16522868_GSM5639188_RS18_RNA-seq_Mus_muscul...</td>\n",
       "      <td>0.0</td>\n",
       "      <td>0.000000</td>\n",
       "      <td>0.000000</td>\n",
       "      <td>0.0</td>\n",
       "      <td>0.0</td>\n",
       "      <td>0.0</td>\n",
       "      <td>0.0</td>\n",
       "      <td>0.0</td>\n",
       "      <td>0.0</td>\n",
       "    </tr>\n",
       "  </tbody>\n",
       "</table>\n",
       "</div>"
      ],
      "text/plain": [
       "                                       read_group_id  ENSMUST00000103569  \\\n",
       "0  SRR16522870_GSM5639190_RS24_RNA-seq_Mus_muscul...                 0.0   \n",
       "1  SRR16522866_GSM5639186_RS11_RNA-seq_Mus_muscul...                 0.0   \n",
       "2  SRR16522874_GSM5639194_RS5_RNA-seq_Mus_musculu...                 0.0   \n",
       "3  SRR16522873_GSM5639193_RS4_T_RNA-seq_Mus_muscu...                 0.0   \n",
       "4  SRR16522868_GSM5639188_RS18_RNA-seq_Mus_muscul...                 0.0   \n",
       "\n",
       "   ENSMUST00000103570  ENSMUST00000103571  ENSMUST00000198019  \\\n",
       "0            0.000000            0.000000                 0.0   \n",
       "1            0.000000            0.000000                 0.0   \n",
       "2            0.994226            0.204338                 0.0   \n",
       "3            0.000000            0.000000                 0.0   \n",
       "4            0.000000            0.000000                 0.0   \n",
       "\n",
       "   ENSMUST00000179789  ENSMUST00000178768  ENSMUST00000103580  \\\n",
       "0                 0.0                 0.0                 0.0   \n",
       "1                 0.0                 0.0                 0.0   \n",
       "2                 0.0                 0.0                 0.0   \n",
       "3                 0.0                 0.0                 0.0   \n",
       "4                 0.0                 0.0                 0.0   \n",
       "\n",
       "   ENSMUST00000103646  ENSMUST00000197754  \n",
       "0                 0.0                 0.0  \n",
       "1                 0.0                 0.0  \n",
       "2                 0.0                 0.0  \n",
       "3                 0.0                 0.0  \n",
       "4                 0.0                 0.0  "
      ]
     },
     "execution_count": 13,
     "metadata": {},
     "output_type": "execute_result"
    }
   ],
   "source": [
    "# remove the . and everything after it from the transcript_id columns in the TPM dataframe\n",
    "TPM.columns = [col.split('.')[0] for col in TPM.columns]\n",
    "#preview first 10 columns of TPM dataframe\n",
    "TPM.iloc[:, :10].head()"
   ]
  },
  {
   "cell_type": "code",
   "execution_count": 14,
   "metadata": {},
   "outputs": [],
   "source": [
    "# do the same for the backup dataframe\n",
    "TPM_backup.columns = [col.split('.')[0] for col in TPM_backup.columns]"
   ]
  },
  {
   "cell_type": "code",
   "execution_count": 15,
   "metadata": {},
   "outputs": [],
   "source": [
    "# for TPM and TPM_backup split read_group_id on _ and keep the first one\n",
    "TPM['read_group_id'] = TPM['read_group_id'].str.split('_').str[0]"
   ]
  },
  {
   "cell_type": "code",
   "execution_count": 16,
   "metadata": {},
   "outputs": [],
   "source": [
    "TPM_backup['read_group_id'] = TPM_backup['read_group_id'].str.split('_').str[0]"
   ]
  },
  {
   "cell_type": "code",
   "execution_count": 17,
   "metadata": {},
   "outputs": [
    {
     "data": {
      "text/html": [
       "<div>\n",
       "<style scoped>\n",
       "    .dataframe tbody tr th:only-of-type {\n",
       "        vertical-align: middle;\n",
       "    }\n",
       "\n",
       "    .dataframe tbody tr th {\n",
       "        vertical-align: top;\n",
       "    }\n",
       "\n",
       "    .dataframe thead th {\n",
       "        text-align: right;\n",
       "    }\n",
       "</style>\n",
       "<table border=\"1\" class=\"dataframe\">\n",
       "  <thead>\n",
       "    <tr style=\"text-align: right;\">\n",
       "      <th></th>\n",
       "      <th>read_group_id</th>\n",
       "      <th>ENSMUST00000103569</th>\n",
       "      <th>ENSMUST00000103570</th>\n",
       "      <th>ENSMUST00000103571</th>\n",
       "      <th>ENSMUST00000198019</th>\n",
       "      <th>ENSMUST00000179789</th>\n",
       "      <th>ENSMUST00000178768</th>\n",
       "      <th>ENSMUST00000103580</th>\n",
       "      <th>ENSMUST00000103646</th>\n",
       "      <th>ENSMUST00000197754</th>\n",
       "    </tr>\n",
       "  </thead>\n",
       "  <tbody>\n",
       "    <tr>\n",
       "      <th>0</th>\n",
       "      <td>SRR16522870</td>\n",
       "      <td>0.0</td>\n",
       "      <td>0.000000</td>\n",
       "      <td>0.000000</td>\n",
       "      <td>0.0</td>\n",
       "      <td>0.0</td>\n",
       "      <td>0.0</td>\n",
       "      <td>0.0</td>\n",
       "      <td>0.0</td>\n",
       "      <td>0.0</td>\n",
       "    </tr>\n",
       "    <tr>\n",
       "      <th>1</th>\n",
       "      <td>SRR16522866</td>\n",
       "      <td>0.0</td>\n",
       "      <td>0.000000</td>\n",
       "      <td>0.000000</td>\n",
       "      <td>0.0</td>\n",
       "      <td>0.0</td>\n",
       "      <td>0.0</td>\n",
       "      <td>0.0</td>\n",
       "      <td>0.0</td>\n",
       "      <td>0.0</td>\n",
       "    </tr>\n",
       "    <tr>\n",
       "      <th>2</th>\n",
       "      <td>SRR16522874</td>\n",
       "      <td>0.0</td>\n",
       "      <td>0.994226</td>\n",
       "      <td>0.204338</td>\n",
       "      <td>0.0</td>\n",
       "      <td>0.0</td>\n",
       "      <td>0.0</td>\n",
       "      <td>0.0</td>\n",
       "      <td>0.0</td>\n",
       "      <td>0.0</td>\n",
       "    </tr>\n",
       "    <tr>\n",
       "      <th>3</th>\n",
       "      <td>SRR16522873</td>\n",
       "      <td>0.0</td>\n",
       "      <td>0.000000</td>\n",
       "      <td>0.000000</td>\n",
       "      <td>0.0</td>\n",
       "      <td>0.0</td>\n",
       "      <td>0.0</td>\n",
       "      <td>0.0</td>\n",
       "      <td>0.0</td>\n",
       "      <td>0.0</td>\n",
       "    </tr>\n",
       "    <tr>\n",
       "      <th>4</th>\n",
       "      <td>SRR16522868</td>\n",
       "      <td>0.0</td>\n",
       "      <td>0.000000</td>\n",
       "      <td>0.000000</td>\n",
       "      <td>0.0</td>\n",
       "      <td>0.0</td>\n",
       "      <td>0.0</td>\n",
       "      <td>0.0</td>\n",
       "      <td>0.0</td>\n",
       "      <td>0.0</td>\n",
       "    </tr>\n",
       "  </tbody>\n",
       "</table>\n",
       "</div>"
      ],
      "text/plain": [
       "  read_group_id  ENSMUST00000103569  ENSMUST00000103570  ENSMUST00000103571  \\\n",
       "0   SRR16522870                 0.0            0.000000            0.000000   \n",
       "1   SRR16522866                 0.0            0.000000            0.000000   \n",
       "2   SRR16522874                 0.0            0.994226            0.204338   \n",
       "3   SRR16522873                 0.0            0.000000            0.000000   \n",
       "4   SRR16522868                 0.0            0.000000            0.000000   \n",
       "\n",
       "   ENSMUST00000198019  ENSMUST00000179789  ENSMUST00000178768  \\\n",
       "0                 0.0                 0.0                 0.0   \n",
       "1                 0.0                 0.0                 0.0   \n",
       "2                 0.0                 0.0                 0.0   \n",
       "3                 0.0                 0.0                 0.0   \n",
       "4                 0.0                 0.0                 0.0   \n",
       "\n",
       "   ENSMUST00000103580  ENSMUST00000103646  ENSMUST00000197754  \n",
       "0                 0.0                 0.0                 0.0  \n",
       "1                 0.0                 0.0                 0.0  \n",
       "2                 0.0                 0.0                 0.0  \n",
       "3                 0.0                 0.0                 0.0  \n",
       "4                 0.0                 0.0                 0.0  "
      ]
     },
     "execution_count": 17,
     "metadata": {},
     "output_type": "execute_result"
    }
   ],
   "source": [
    "TPM.iloc[:, :10].head()"
   ]
  },
  {
   "cell_type": "markdown",
   "metadata": {},
   "source": [
    "### Selecting a subset of relevant metadata columns to make the query process easier."
   ]
  },
  {
   "cell_type": "code",
   "execution_count": 18,
   "metadata": {},
   "outputs": [],
   "source": [
    "selected_metadata = metadata"
   ]
  },
  {
   "cell_type": "markdown",
   "metadata": {},
   "source": [
    "### Loading the gene_name dictionaries."
   ]
  },
  {
   "cell_type": "code",
   "execution_count": 19,
   "metadata": {},
   "outputs": [],
   "source": [
    "with open('../../results/gene_to_transcript_mapping.pkl', 'rb') as file:\n",
    "    gene_to_transcript_mapping = pickle.load(file)\n",
    "with open('../../results/transcript_to_gene_mapping.pkl', 'rb') as file:\n",
    "    transcript_to_gene_mapping = pickle.load(file)"
   ]
  },
  {
   "cell_type": "markdown",
   "metadata": {},
   "source": [
    "### Setting up Plotly"
   ]
  },
  {
   "cell_type": "code",
   "execution_count": 57,
   "metadata": {},
   "outputs": [],
   "source": [
    "import chart_studio\n",
    "import chart_studio.plotly as py\n",
    "\n",
    "# Set your credentials\n",
    "chart_studio.tools.set_credentials_file(username='waqaas108', api_key='ZkYpY2kalOAcwPfZbo80')"
   ]
  },
  {
   "cell_type": "markdown",
   "metadata": {},
   "source": [
    "## Pipeline"
   ]
  },
  {
   "cell_type": "code",
   "execution_count": 20,
   "metadata": {},
   "outputs": [],
   "source": [
    "def modded_query_maker(dataframe, TPM_dataframe):\n",
    "    print(TPM_dataframe.columns[:10])\n",
    "    # set first column as index for TPM_dataframe\n",
    "    TPM_dataframe.set_index(TPM_dataframe.columns[0], inplace=True)\n",
    "    dataframe1 = dataframe.loc[(dataframe['source_name'] == 'RS')]\n",
    "    dataframe2 = dataframe.loc[(dataframe['source_name'] == 'CLL_RS')]\n",
    "    dataframe3 = dataframe.loc[(dataframe['source_name'] == 'CLL')]\n",
    "    dataframe4 = dataframe.loc[(dataframe['source_name'] == 'B cell')]\n",
    "    # use the case_id column to subset the TPM dataframe\n",
    "    TPM_dataframe1 = TPM_dataframe[TPM_dataframe.index.isin(dataframe1['Run'])]\n",
    "    TPM_dataframe2 = TPM_dataframe[TPM_dataframe.index.isin(dataframe2['Run'])]\n",
    "    TPM_dataframe3 = TPM_dataframe[TPM_dataframe.index.isin(dataframe3['Run'])]\n",
    "    TPM_dataframe4 = TPM_dataframe[TPM_dataframe.index.isin(dataframe4['Run'])]\n",
    "    # print the shape of the two dataframes\n",
    "    print('Dataframe 1 shape: ', TPM_dataframe1.shape)\n",
    "    print('Dataframe 2 shape: ', TPM_dataframe2.shape)\n",
    "    print('Dataframe 3 shape: ', TPM_dataframe3.shape)\n",
    "    print('Dataframe 4 shape: ', TPM_dataframe4.shape)\n",
    "\n",
    "    # return the TPM dataframes\n",
    "    return TPM_dataframe1, TPM_dataframe2, TPM_dataframe3, TPM_dataframe4"
   ]
  },
  {
   "cell_type": "code",
   "execution_count": 67,
   "metadata": {},
   "outputs": [],
   "source": [
    "from scipy.stats import f_oneway\n",
    "import numpy as np\n",
    "import pandas as pd\n",
    "import plotly.graph_objects as go\n",
    "from statsmodels.stats.multitest import multipletests\n",
    "from tqdm import tqdm\n",
    "\n",
    "def comprehensive_gene_analysis(gene_dict, df1, df2, df3, df4, genemap, log_threshold, alpha=0.1, post_online=False):\n",
    "    \"\"\"\n",
    "    This function performs the full analysis pipeline: ANOVA at the transcript level,\n",
    "    aggregation to the gene level, calculation of log fold changes and Euclidean distances,\n",
    "    and visualization of significant genes. Optionally, it can post the figure online to Plotly Chart Studio.\n",
    "\n",
    "    Parameters:\n",
    "    - gene_dict: Dictionary mapping transcript IDs to gene names.\n",
    "    - df1, df2, df3, df4: DataFrames containing TPM counts for each cohort.\n",
    "    - genemap: Dictionary mapping gene names to lists of transcript IDs.\n",
    "    - log_threshold: Log fold change threshold for significance.\n",
    "    - alpha: Significance level for FDR correction.\n",
    "    - post_online: Boolean flag to post the figure online through Plotly Chart Studio.\n",
    "\n",
    "    Returns:\n",
    "    - mean_df_min: DataFrame containing aggregated and visualized gene-level results.\n",
    "    \"\"\"\n",
    "\n",
    "    # Step 1: Perform ANOVA at the transcript level\n",
    "    df1 = df1.iloc[:, 1:]\n",
    "    df2 = df2.iloc[:, 1:]\n",
    "    df3 = df3.iloc[:, 1:]\n",
    "    df4 = df4.iloc[:, 1:]\n",
    "\n",
    "    anova_results = {}\n",
    "    for col in tqdm(df1.columns, desc=\"Performing ANOVA\", unit=\"transcript\"):\n",
    "        anova_results[col] = f_oneway(df1[col], df2[col], df3[col], df4[col])\n",
    "\n",
    "    # Create DataFrame for ANOVA results\n",
    "    anova_df = pd.DataFrame({\n",
    "        'transcript_id': list(anova_results.keys()),\n",
    "        'f_statistic': [result.statistic for result in anova_results.values()],\n",
    "        'p_value': [result.pvalue for result in anova_results.values()],\n",
    "    })\n",
    "\n",
    "    # Apply FDR correction\n",
    "    anova_df['adjusted_p_value'] = multipletests(anova_df['p_value'], method='fdr_bh')[1]\n",
    "\n",
    "    # Identify significant transcripts after FDR correction\n",
    "    anova_df['significant'] = anova_df['adjusted_p_value'] < alpha\n",
    "\n",
    "    # Add gene names\n",
    "    anova_df['gene_name'] = anova_df['transcript_id'].map(gene_dict)\n",
    "\n",
    "    # Step 2: Aggregate transcript-level results to the gene level\n",
    "    idx = anova_df.groupby('gene_name')['adjusted_p_value'].idxmin()\n",
    "    gene_level_results_min = anova_df.loc[idx, ['gene_name', 'p_value', 'adjusted_p_value', 'significant']]\n",
    "\n",
    "    # Step 3: Calculate log fold changes and Euclidean distances for visualization\n",
    "    results = []\n",
    "    for gene, transcripts in tqdm(genemap.items(), desc=\"Calculating Log FC and Euclidean Distances\", unit=\"gene\"):\n",
    "        # Extract the relevant columns from the TPM dataframe\n",
    "        gene_data1 = df1[[transcript for transcript in transcripts if transcript in df1.columns]]\n",
    "        gene_data2 = df2[[transcript for transcript in transcripts if transcript in df2.columns]]\n",
    "        gene_data3 = df3[[transcript for transcript in transcripts if transcript in df3.columns]]\n",
    "        gene_data4 = df4[[transcript for transcript in transcripts if transcript in df4.columns]]\n",
    "\n",
    "        # Compute sums for each cohort\n",
    "        sum1 = gene_data1.sum(axis=1)\n",
    "        sum2 = gene_data2.sum(axis=1)\n",
    "        sum3 = gene_data3.sum(axis=1)\n",
    "        sum4 = gene_data4.sum(axis=1)\n",
    "\n",
    "        # Compute vectors for each cohort\n",
    "        vector1 = gene_data1.sum(axis=0)\n",
    "        vector2 = gene_data2.sum(axis=0)\n",
    "        vector3 = gene_data3.sum(axis=0)\n",
    "        vector4 = gene_data4.sum(axis=0)\n",
    "\n",
    "        # Compute means for each cohort\n",
    "        mean1 = sum1.mean()\n",
    "        mean2 = sum2.mean()\n",
    "        mean3 = sum3.mean()\n",
    "        mean4 = sum4.mean()\n",
    "\n",
    "        # Normalizing vectors using Euclidean distance\n",
    "        n_sum1 = np.linalg.norm(vector1)\n",
    "        n_sum2 = np.linalg.norm(vector2)\n",
    "        n_sum3 = np.linalg.norm(vector3)\n",
    "        n_sum4 = np.linalg.norm(vector4)\n",
    "\n",
    "        # Get normalized vectors\n",
    "        v_mean1 = vector1 / n_sum1\n",
    "        v_mean2 = vector2 / n_sum2\n",
    "        v_mean3 = vector3 / n_sum3\n",
    "        v_mean4 = vector4 / n_sum4\n",
    "\n",
    "        # Compute Euclidean distances for all pairwise comparisons\n",
    "        euclidean_distances = {\n",
    "            'B cell_vs_CLL': np.linalg.norm(v_mean1 - v_mean2),\n",
    "            'B cell_vs_CLL_RS': np.linalg.norm(v_mean1 - v_mean3),\n",
    "            'B cell_vs_RS': np.linalg.norm(v_mean1 - v_mean4),\n",
    "            'CLL_vs_CLL_RS': np.linalg.norm(v_mean2 - v_mean3),\n",
    "            'CLL_vs_RS': np.linalg.norm(v_mean2 - v_mean4),\n",
    "            'CLL_RS_vs_RS': np.linalg.norm(v_mean3 - v_mean4)\n",
    "        }\n",
    "\n",
    "        # Compute log fold changes for all pairwise comparisons\n",
    "        log2_fold_changes = {\n",
    "            'B cell_vs_CLL': np.log2(mean1 / mean2) if mean1 > 0 and mean2 > 0 else np.nan,\n",
    "            'B cell_vs_CLL_RS': np.log2(mean1 / mean3) if mean1 > 0 and mean3 > 0 else np.nan,\n",
    "            'B cell_vs_RS': np.log2(mean1 / mean4) if mean1 > 0 and mean4 > 0 else np.nan,\n",
    "            'CLL_vs_CLL_RS': np.log2(mean2 / mean3) if mean2 > 0 and mean3 > 0 else np.nan,\n",
    "            'CLL_vs_RS': np.log2(mean2 / mean4) if mean2 > 0 and mean4 > 0 else np.nan,\n",
    "            'CLL_RS_vs_RS': np.log2(mean3 / mean4) if mean3 > 0 and mean4 > 0 else np.nan\n",
    "        }\n",
    "\n",
    "        # Find the comparison with the highest Euclidean distance for the gene\n",
    "        max_comp = max(euclidean_distances, key=euclidean_distances.get)\n",
    "\n",
    "        # Append the result for the gene using the max comparison\n",
    "        results.append({\n",
    "            'gene_name': gene,\n",
    "            'comparison': max_comp,\n",
    "            'log2_fold_change': log2_fold_changes[max_comp],\n",
    "            'euclidean_distance': euclidean_distances[max_comp]\n",
    "        })\n",
    "\n",
    "    # Convert results to a DataFrame\n",
    "    mean_df = pd.DataFrame(results)\n",
    "\n",
    "    # Merge with gene_level_results_min to include significance information\n",
    "    mean_df_min = pd.merge(mean_df, gene_level_results_min[['gene_name', 'significant']], on='gene_name', how='left')\n",
    "\n",
    "    # Calculate the 95th percentile for Euclidean distance\n",
    "    percentile_95 = mean_df_min['euclidean_distance'].quantile(0.95)\n",
    "\n",
    "    # Filter genes that are significant at the transcript level, at or above the 95th percentile, and within log thresholds\n",
    "    filtered_genes = mean_df_min[\n",
    "        (mean_df_min['significant'] == True) &\n",
    "        (abs(mean_df_min['log2_fold_change']) <= log_threshold) &\n",
    "        (mean_df_min['euclidean_distance'] >= percentile_95)\n",
    "    ]\n",
    "\n",
    "    # Highlight the top ten genes by Euclidean distance\n",
    "    top_genes = filtered_genes.nlargest(10, 'euclidean_distance')\n",
    "\n",
    "    # Prepare figure\n",
    "    fig = go.Figure()\n",
    "\n",
    "    # Add scatter plot for filtered genes\n",
    "    fig.add_trace(go.Scatter(\n",
    "        x=filtered_genes['log2_fold_change'],\n",
    "        y=filtered_genes['euclidean_distance'],\n",
    "        mode='markers',\n",
    "        name='Significant Genes',\n",
    "        hovertext=filtered_genes.apply(lambda row: f\"{row['gene_name']} ({row['comparison']})\", axis=1),\n",
    "        marker=dict(color='grey')\n",
    "    ))\n",
    "\n",
    "    # Highlight the top ten genes by Euclidean distance\n",
    "    fig.add_trace(go.Scatter(\n",
    "        x=top_genes['log2_fold_change'],\n",
    "        y=top_genes['euclidean_distance'],\n",
    "        mode='markers+text',\n",
    "        name='Top 10 Genes by Euclidean Distance',\n",
    "        hovertext=top_genes.apply(lambda row: f\"{row['gene_name']} ({row['comparison']})\", axis=1),\n",
    "        marker=dict(color='red', size=10),\n",
    "        text=top_genes['gene_name'],\n",
    "        textposition=\"top center\"\n",
    "    ))\n",
    "\n",
    "    fig.update_layout(\n",
    "        title='Euclidean Distance vs Log2 FC (Filtered and Highlighted)',\n",
    "        xaxis_title='Differential Gene Expression (log2 FC)',\n",
    "        yaxis_title='Per-gene Transcript Abundance Variance Score',\n",
    "        showlegend=True\n",
    "    )\n",
    "\n",
    "    # Show figure\n",
    "    fig.show()\n",
    "\n",
    "    # Post the figure online if requested\n",
    "    if post_online:\n",
    "        py.plot(fig, filename='Euclidean_Distance_vs_Log2_FC', auto_open=True)\n",
    "\n",
    "    # Sort and reset index\n",
    "    mean_df_min = mean_df_min.sort_values(by='euclidean_distance', ascending=False)\n",
    "    mean_df_min.reset_index(drop=True, inplace=True)\n",
    "\n",
    "    return mean_df_min\n"
   ]
  },
  {
   "cell_type": "code",
   "execution_count": 66,
   "metadata": {},
   "outputs": [],
   "source": [
    "import plotly.graph_objects as go\n",
    "import pandas as pd\n",
    "\n",
    "def plot_mean_euclidean_and_logfc(mean_df_min, post_online=False):\n",
    "    \"\"\"\n",
    "    Create a bar graph showing the mean Euclidean distance scores and mean absolute logFC for each comparison group.\n",
    "    Two bars for each comparison group:\n",
    "    - Mean Euclidean Distance across all genes\n",
    "    - Mean Absolute logFC across all genes\n",
    "\n",
    "    Parameters:\n",
    "    - mean_df_min: DataFrame containing aggregated gene-level results with Euclidean distances and logFC.\n",
    "    - post_online: Boolean flag to post the figure online through Plotly Chart Studio.\n",
    "\n",
    "    Returns:\n",
    "    - None: Displays a bar graph.\n",
    "    \"\"\"\n",
    "    # Define comparison groups\n",
    "    comparisons = ['B cell_vs_CLL', 'B cell_vs_CLL_RS', 'B cell_vs_RS', 'CLL_vs_CLL_RS', 'CLL_vs_RS', 'CLL_RS_vs_RS']\n",
    "\n",
    "    # Data storage for bar graph\n",
    "    euclidean_means = []\n",
    "    logfc_means = []\n",
    "\n",
    "    for comp in comparisons:\n",
    "        # Filter DataFrame for the specific comparison group\n",
    "        df_comp = mean_df_min[mean_df_min['comparison'] == comp]\n",
    "\n",
    "        # Calculate mean Euclidean distance across all genes\n",
    "        mean_euclidean = df_comp['euclidean_distance'].mean()\n",
    "        euclidean_means.append(mean_euclidean)\n",
    "\n",
    "        # Calculate mean absolute logFC across all genes\n",
    "        mean_abs_logfc = df_comp['log2_fold_change'].abs().mean()\n",
    "        logfc_means.append(mean_abs_logfc)\n",
    "\n",
    "    # Create the bar graph\n",
    "    fig = go.Figure(data=[\n",
    "        go.Bar(name='Mean Euclidean Distance (All Genes)', x=comparisons, y=euclidean_means),\n",
    "        go.Bar(name='Mean Absolute logFC (All Genes)', x=comparisons, y=logfc_means)\n",
    "    ])\n",
    "\n",
    "    # Customize the layout\n",
    "    fig.update_layout(\n",
    "        title='Mean Euclidean Distances and Mean Absolute logFC Across Comparison Groups',\n",
    "        xaxis_title='Comparison Group',\n",
    "        yaxis_title='Mean Value',\n",
    "        barmode='group'\n",
    "    )\n",
    "\n",
    "    # Show the figure\n",
    "    fig.show()\n",
    "\n",
    "    # Post the figure online if requested\n",
    "    if post_online:\n",
    "        py.plot(fig, filename='Mean_Euclidean_Distances_and_logFC', auto_open=True)\n"
   ]
  },
  {
   "cell_type": "markdown",
   "metadata": {},
   "source": [
    "## Specific Implementation Code"
   ]
  },
  {
   "cell_type": "markdown",
   "metadata": {},
   "source": [
    "### setting up dictionaries"
   ]
  },
  {
   "cell_type": "code",
   "execution_count": 24,
   "metadata": {},
   "outputs": [],
   "source": [
    "# # import in GSE17025.top.table.tsv from data\n",
    "# top_table1 = pd.read_csv('../../data/GSE17025.top.table.tsv', sep='\\t')\n",
    "# # import in GSE63678.top.table.tsv from data\n",
    "# top_table2 = pd.read_csv('../../data/GSE63678.top.table.tsv', sep='\\t')\n",
    "# # import in GSE115810.top.table.tsv from data\n",
    "# top_table3 = pd.read_csv('../../data/GSE115810.top.table.tsv', sep='\\t')\n",
    "# # preview the dataframe\n",
    "# top_table1.head()\n",
    "# # stack the dataframes on top of each other\n",
    "# top_table_x = pd.concat([top_table1, top_table2, top_table3])\n",
    "# # length of the dataframe\n",
    "# len(top_table_x)"
   ]
  },
  {
   "cell_type": "code",
   "execution_count": 25,
   "metadata": {},
   "outputs": [],
   "source": [
    "# # isolate the Gene.symbol column\n",
    "# top_table = top_table_x['Gene.symbol']\n",
    "# # preview the dataframe\n",
    "# top_table.head()"
   ]
  },
  {
   "cell_type": "code",
   "execution_count": 26,
   "metadata": {},
   "outputs": [],
   "source": [
    "# # only keep Gene.symbol and Gene.title columns\n",
    "# top_table_y = top_table_x[['Gene.symbol', 'Gene.title']]\n",
    "# # turn the table into a dictionary\n",
    "# top_table_dict = top_table_y.set_index('Gene.symbol')['Gene.title'].to_dict()"
   ]
  },
  {
   "cell_type": "code",
   "execution_count": 27,
   "metadata": {},
   "outputs": [],
   "source": [
    "# # find common entries between gene_to_transcript_mapping keys and top_table\n",
    "# common_genes = set(gene_to_transcript_mapping.keys()).intersection(set(top_table))\n",
    "# # print the number of common genes\n",
    "# print('Number of common genes: ', len(common_genes))"
   ]
  },
  {
   "cell_type": "code",
   "execution_count": 28,
   "metadata": {},
   "outputs": [],
   "source": [
    "# # only keep common genes in gene_to_transcript_mapping\n",
    "# gene_to_transcript_mapping_common = {gene: gene_to_transcript_mapping[gene] for gene in common_genes}\n",
    "# # print the length of gene_to_transcript_mapping_common\n",
    "# print('Length of gene_to_transcript_mapping_common: ', len(gene_to_transcript_mapping_common))"
   ]
  },
  {
   "cell_type": "markdown",
   "metadata": {},
   "source": [
    "### running the pipeline"
   ]
  },
  {
   "cell_type": "code",
   "execution_count": 29,
   "metadata": {},
   "outputs": [
    {
     "name": "stdout",
     "output_type": "stream",
     "text": [
      "Index(['read_group_id', 'ENSMUST00000103569', 'ENSMUST00000103570',\n",
      "       'ENSMUST00000103571', 'ENSMUST00000198019', 'ENSMUST00000179789',\n",
      "       'ENSMUST00000178768', 'ENSMUST00000103580', 'ENSMUST00000103646',\n",
      "       'ENSMUST00000197754'],\n",
      "      dtype='object')\n",
      "Dataframe 1 shape:  (11, 99469)\n",
      "Dataframe 2 shape:  (4, 99469)\n",
      "Dataframe 3 shape:  (5, 99469)\n",
      "Dataframe 4 shape:  (4, 99469)\n"
     ]
    }
   ],
   "source": [
    "# rerun the modded pipeline with the common genes\n",
    "TPM_dataframe1, TPM_dataframe2, TPM_dataframe3, TPM_dataframe4 = modded_query_maker(metadata, TPM)"
   ]
  },
  {
   "cell_type": "code",
   "execution_count": 68,
   "metadata": {},
   "outputs": [
    {
     "name": "stderr",
     "output_type": "stream",
     "text": [
      "Performing ANOVA: 100%|██████████| 99468/99468 [00:36<00:00, 2728.14transcript/s]\n",
      "Calculating Log FC and Euclidean Distances: 100%|██████████| 35330/35330 [01:27<00:00, 403.10gene/s]\n"
     ]
    },
    {
     "data": {
      "application/vnd.plotly.v1+json": {
       "config": {
        "plotlyServerURL": "https://plotly.com"
       },
       "data": [
        {
         "hovertext": [
          "Igkv3-7 (CLL_vs_CLL_RS)",
          "Igkv4-61 (B cell_vs_CLL)",
          "Ppara (B cell_vs_CLL_RS)",
          "Col3a1 (B cell_vs_CLL_RS)",
          "Map9 (CLL_vs_RS)",
          "Tdrp (CLL_vs_RS)",
          "Slc2a13 (B cell_vs_CLL_RS)",
          "Mcf2 (B cell_vs_CLL_RS)",
          "Fam181a (B cell_vs_RS)",
          "Nid2 (CLL_RS_vs_RS)",
          "Dcstamp (CLL_vs_CLL_RS)",
          "Paqr8 (B cell_vs_CLL)",
          "Tox3 (B cell_vs_CLL)",
          "Klra1 (B cell_vs_CLL)",
          "Prl2c3 (B cell_vs_CLL_RS)",
          "Gli3 (B cell_vs_RS)",
          "Med12l (CLL_vs_RS)",
          "Fbxl21 (B cell_vs_CLL)",
          "Tnip3 (CLL_RS_vs_RS)",
          "Slc38a7 (CLL_vs_CLL_RS)",
          "Cacnb3 (CLL_vs_CLL_RS)",
          "Krt80 (B cell_vs_CLL_RS)",
          "Slc34a2 (CLL_vs_CLL_RS)",
          "C2cd4c (CLL_vs_CLL_RS)",
          "Mmp27 (B cell_vs_CLL)",
          "Ces2c (B cell_vs_RS)",
          "Clec9a (B cell_vs_CLL)",
          "1810020O05Rik (B cell_vs_CLL)",
          "Pik3c2g (CLL_RS_vs_RS)",
          "Dab2ip (CLL_vs_RS)",
          "Fsip1 (CLL_vs_CLL_RS)",
          "Myocd (CLL_vs_CLL_RS)",
          "Sema4c (B cell_vs_CLL_RS)",
          "Igf2 (CLL_RS_vs_RS)"
         ],
         "marker": {
          "color": "grey"
         },
         "mode": "markers",
         "name": "Significant Genes",
         "type": "scatter",
         "x": [
          0.4989956069823196,
          -1.8962709651228293,
          0.29319502207973114,
          0.21710790231066426,
          -0.8789593485754359,
          1.8119931436749805,
          0.9823564375150698,
          0.3407810519194564,
          -1.5467654138898204,
          -0.5353636872273327,
          1.6830360206024209,
          1.8235455784971182,
          1.7527670193971556,
          -1.842194066767862,
          1.1227678306268059,
          0.6328677876348282,
          0.8705134071009638,
          1.1232231794916998,
          -0.06151691828330178,
          0.690033164434167,
          -0.012726705187984093,
          -0.2104658519316387,
          0.6031644845863819,
          1.457018115139924,
          0.4420452840911179,
          -1.2258725768614924,
          0.6449383125025134,
          1.667710089770588,
          -1.002535456291366,
          -1.291975463419695,
          0.5250717359231848,
          0.10958684287679106,
          -1.0034429741491069,
          -0.3810813092089465
         ],
         "y": [
          1.3517444982270381,
          1.2952258418713443,
          1.3232343431765001,
          1.3583787654361141,
          1.298875998763758,
          1.3168118285302297,
          1.2732779614459837,
          1.4142135623730951,
          1.4142135623730951,
          1.3904281286390678,
          1.4142135623730951,
          1.2995343737956455,
          1.290448989854578,
          1.4142135623730951,
          1.414213562373095,
          1.2990058476079704,
          1.3128960587109981,
          1.2915781327016795,
          1.3848266754404563,
          1.2888985153551964,
          1.395464041681985,
          1.316079574803141,
          1.4142135623730951,
          1.355596273014347,
          1.3451802686477001,
          1.2795539721052367,
          1.321484382293647,
          1.3759193933382032,
          1.3010660729071901,
          1.326844005785785,
          1.387982153281418,
          1.3627406895578373,
          1.3995103029066391,
          1.4125731248148474
         ]
        },
        {
         "hovertext": [
          "Mcf2 (B cell_vs_CLL_RS)",
          "Fam181a (B cell_vs_RS)",
          "Dcstamp (CLL_vs_CLL_RS)",
          "Klra1 (B cell_vs_CLL)",
          "Slc34a2 (CLL_vs_CLL_RS)",
          "Prl2c3 (B cell_vs_CLL_RS)",
          "Igf2 (CLL_RS_vs_RS)",
          "Sema4c (B cell_vs_CLL_RS)",
          "Cacnb3 (CLL_vs_CLL_RS)",
          "Nid2 (CLL_RS_vs_RS)"
         ],
         "marker": {
          "color": "red",
          "size": 10
         },
         "mode": "markers+text",
         "name": "Top 10 Genes by Euclidean Distance",
         "text": [
          "Mcf2",
          "Fam181a",
          "Dcstamp",
          "Klra1",
          "Slc34a2",
          "Prl2c3",
          "Igf2",
          "Sema4c",
          "Cacnb3",
          "Nid2"
         ],
         "textposition": "top center",
         "type": "scatter",
         "x": [
          0.3407810519194564,
          -1.5467654138898204,
          1.6830360206024209,
          -1.842194066767862,
          0.6031644845863819,
          1.1227678306268059,
          -0.3810813092089465,
          -1.0034429741491069,
          -0.012726705187984093,
          -0.5353636872273327
         ],
         "y": [
          1.4142135623730951,
          1.4142135623730951,
          1.4142135623730951,
          1.4142135623730951,
          1.4142135623730951,
          1.414213562373095,
          1.4125731248148474,
          1.3995103029066391,
          1.395464041681985,
          1.3904281286390678
         ]
        }
       ],
       "layout": {
        "showlegend": true,
        "template": {
         "data": {
          "bar": [
           {
            "error_x": {
             "color": "#2a3f5f"
            },
            "error_y": {
             "color": "#2a3f5f"
            },
            "marker": {
             "line": {
              "color": "#E5ECF6",
              "width": 0.5
             },
             "pattern": {
              "fillmode": "overlay",
              "size": 10,
              "solidity": 0.2
             }
            },
            "type": "bar"
           }
          ],
          "barpolar": [
           {
            "marker": {
             "line": {
              "color": "#E5ECF6",
              "width": 0.5
             },
             "pattern": {
              "fillmode": "overlay",
              "size": 10,
              "solidity": 0.2
             }
            },
            "type": "barpolar"
           }
          ],
          "carpet": [
           {
            "aaxis": {
             "endlinecolor": "#2a3f5f",
             "gridcolor": "white",
             "linecolor": "white",
             "minorgridcolor": "white",
             "startlinecolor": "#2a3f5f"
            },
            "baxis": {
             "endlinecolor": "#2a3f5f",
             "gridcolor": "white",
             "linecolor": "white",
             "minorgridcolor": "white",
             "startlinecolor": "#2a3f5f"
            },
            "type": "carpet"
           }
          ],
          "choropleth": [
           {
            "colorbar": {
             "outlinewidth": 0,
             "ticks": ""
            },
            "type": "choropleth"
           }
          ],
          "contour": [
           {
            "colorbar": {
             "outlinewidth": 0,
             "ticks": ""
            },
            "colorscale": [
             [
              0,
              "#0d0887"
             ],
             [
              0.1111111111111111,
              "#46039f"
             ],
             [
              0.2222222222222222,
              "#7201a8"
             ],
             [
              0.3333333333333333,
              "#9c179e"
             ],
             [
              0.4444444444444444,
              "#bd3786"
             ],
             [
              0.5555555555555556,
              "#d8576b"
             ],
             [
              0.6666666666666666,
              "#ed7953"
             ],
             [
              0.7777777777777778,
              "#fb9f3a"
             ],
             [
              0.8888888888888888,
              "#fdca26"
             ],
             [
              1,
              "#f0f921"
             ]
            ],
            "type": "contour"
           }
          ],
          "contourcarpet": [
           {
            "colorbar": {
             "outlinewidth": 0,
             "ticks": ""
            },
            "type": "contourcarpet"
           }
          ],
          "heatmap": [
           {
            "colorbar": {
             "outlinewidth": 0,
             "ticks": ""
            },
            "colorscale": [
             [
              0,
              "#0d0887"
             ],
             [
              0.1111111111111111,
              "#46039f"
             ],
             [
              0.2222222222222222,
              "#7201a8"
             ],
             [
              0.3333333333333333,
              "#9c179e"
             ],
             [
              0.4444444444444444,
              "#bd3786"
             ],
             [
              0.5555555555555556,
              "#d8576b"
             ],
             [
              0.6666666666666666,
              "#ed7953"
             ],
             [
              0.7777777777777778,
              "#fb9f3a"
             ],
             [
              0.8888888888888888,
              "#fdca26"
             ],
             [
              1,
              "#f0f921"
             ]
            ],
            "type": "heatmap"
           }
          ],
          "heatmapgl": [
           {
            "colorbar": {
             "outlinewidth": 0,
             "ticks": ""
            },
            "colorscale": [
             [
              0,
              "#0d0887"
             ],
             [
              0.1111111111111111,
              "#46039f"
             ],
             [
              0.2222222222222222,
              "#7201a8"
             ],
             [
              0.3333333333333333,
              "#9c179e"
             ],
             [
              0.4444444444444444,
              "#bd3786"
             ],
             [
              0.5555555555555556,
              "#d8576b"
             ],
             [
              0.6666666666666666,
              "#ed7953"
             ],
             [
              0.7777777777777778,
              "#fb9f3a"
             ],
             [
              0.8888888888888888,
              "#fdca26"
             ],
             [
              1,
              "#f0f921"
             ]
            ],
            "type": "heatmapgl"
           }
          ],
          "histogram": [
           {
            "marker": {
             "pattern": {
              "fillmode": "overlay",
              "size": 10,
              "solidity": 0.2
             }
            },
            "type": "histogram"
           }
          ],
          "histogram2d": [
           {
            "colorbar": {
             "outlinewidth": 0,
             "ticks": ""
            },
            "colorscale": [
             [
              0,
              "#0d0887"
             ],
             [
              0.1111111111111111,
              "#46039f"
             ],
             [
              0.2222222222222222,
              "#7201a8"
             ],
             [
              0.3333333333333333,
              "#9c179e"
             ],
             [
              0.4444444444444444,
              "#bd3786"
             ],
             [
              0.5555555555555556,
              "#d8576b"
             ],
             [
              0.6666666666666666,
              "#ed7953"
             ],
             [
              0.7777777777777778,
              "#fb9f3a"
             ],
             [
              0.8888888888888888,
              "#fdca26"
             ],
             [
              1,
              "#f0f921"
             ]
            ],
            "type": "histogram2d"
           }
          ],
          "histogram2dcontour": [
           {
            "colorbar": {
             "outlinewidth": 0,
             "ticks": ""
            },
            "colorscale": [
             [
              0,
              "#0d0887"
             ],
             [
              0.1111111111111111,
              "#46039f"
             ],
             [
              0.2222222222222222,
              "#7201a8"
             ],
             [
              0.3333333333333333,
              "#9c179e"
             ],
             [
              0.4444444444444444,
              "#bd3786"
             ],
             [
              0.5555555555555556,
              "#d8576b"
             ],
             [
              0.6666666666666666,
              "#ed7953"
             ],
             [
              0.7777777777777778,
              "#fb9f3a"
             ],
             [
              0.8888888888888888,
              "#fdca26"
             ],
             [
              1,
              "#f0f921"
             ]
            ],
            "type": "histogram2dcontour"
           }
          ],
          "mesh3d": [
           {
            "colorbar": {
             "outlinewidth": 0,
             "ticks": ""
            },
            "type": "mesh3d"
           }
          ],
          "parcoords": [
           {
            "line": {
             "colorbar": {
              "outlinewidth": 0,
              "ticks": ""
             }
            },
            "type": "parcoords"
           }
          ],
          "pie": [
           {
            "automargin": true,
            "type": "pie"
           }
          ],
          "scatter": [
           {
            "fillpattern": {
             "fillmode": "overlay",
             "size": 10,
             "solidity": 0.2
            },
            "type": "scatter"
           }
          ],
          "scatter3d": [
           {
            "line": {
             "colorbar": {
              "outlinewidth": 0,
              "ticks": ""
             }
            },
            "marker": {
             "colorbar": {
              "outlinewidth": 0,
              "ticks": ""
             }
            },
            "type": "scatter3d"
           }
          ],
          "scattercarpet": [
           {
            "marker": {
             "colorbar": {
              "outlinewidth": 0,
              "ticks": ""
             }
            },
            "type": "scattercarpet"
           }
          ],
          "scattergeo": [
           {
            "marker": {
             "colorbar": {
              "outlinewidth": 0,
              "ticks": ""
             }
            },
            "type": "scattergeo"
           }
          ],
          "scattergl": [
           {
            "marker": {
             "colorbar": {
              "outlinewidth": 0,
              "ticks": ""
             }
            },
            "type": "scattergl"
           }
          ],
          "scattermapbox": [
           {
            "marker": {
             "colorbar": {
              "outlinewidth": 0,
              "ticks": ""
             }
            },
            "type": "scattermapbox"
           }
          ],
          "scatterpolar": [
           {
            "marker": {
             "colorbar": {
              "outlinewidth": 0,
              "ticks": ""
             }
            },
            "type": "scatterpolar"
           }
          ],
          "scatterpolargl": [
           {
            "marker": {
             "colorbar": {
              "outlinewidth": 0,
              "ticks": ""
             }
            },
            "type": "scatterpolargl"
           }
          ],
          "scatterternary": [
           {
            "marker": {
             "colorbar": {
              "outlinewidth": 0,
              "ticks": ""
             }
            },
            "type": "scatterternary"
           }
          ],
          "surface": [
           {
            "colorbar": {
             "outlinewidth": 0,
             "ticks": ""
            },
            "colorscale": [
             [
              0,
              "#0d0887"
             ],
             [
              0.1111111111111111,
              "#46039f"
             ],
             [
              0.2222222222222222,
              "#7201a8"
             ],
             [
              0.3333333333333333,
              "#9c179e"
             ],
             [
              0.4444444444444444,
              "#bd3786"
             ],
             [
              0.5555555555555556,
              "#d8576b"
             ],
             [
              0.6666666666666666,
              "#ed7953"
             ],
             [
              0.7777777777777778,
              "#fb9f3a"
             ],
             [
              0.8888888888888888,
              "#fdca26"
             ],
             [
              1,
              "#f0f921"
             ]
            ],
            "type": "surface"
           }
          ],
          "table": [
           {
            "cells": {
             "fill": {
              "color": "#EBF0F8"
             },
             "line": {
              "color": "white"
             }
            },
            "header": {
             "fill": {
              "color": "#C8D4E3"
             },
             "line": {
              "color": "white"
             }
            },
            "type": "table"
           }
          ]
         },
         "layout": {
          "annotationdefaults": {
           "arrowcolor": "#2a3f5f",
           "arrowhead": 0,
           "arrowwidth": 1
          },
          "autotypenumbers": "strict",
          "coloraxis": {
           "colorbar": {
            "outlinewidth": 0,
            "ticks": ""
           }
          },
          "colorscale": {
           "diverging": [
            [
             0,
             "#8e0152"
            ],
            [
             0.1,
             "#c51b7d"
            ],
            [
             0.2,
             "#de77ae"
            ],
            [
             0.3,
             "#f1b6da"
            ],
            [
             0.4,
             "#fde0ef"
            ],
            [
             0.5,
             "#f7f7f7"
            ],
            [
             0.6,
             "#e6f5d0"
            ],
            [
             0.7,
             "#b8e186"
            ],
            [
             0.8,
             "#7fbc41"
            ],
            [
             0.9,
             "#4d9221"
            ],
            [
             1,
             "#276419"
            ]
           ],
           "sequential": [
            [
             0,
             "#0d0887"
            ],
            [
             0.1111111111111111,
             "#46039f"
            ],
            [
             0.2222222222222222,
             "#7201a8"
            ],
            [
             0.3333333333333333,
             "#9c179e"
            ],
            [
             0.4444444444444444,
             "#bd3786"
            ],
            [
             0.5555555555555556,
             "#d8576b"
            ],
            [
             0.6666666666666666,
             "#ed7953"
            ],
            [
             0.7777777777777778,
             "#fb9f3a"
            ],
            [
             0.8888888888888888,
             "#fdca26"
            ],
            [
             1,
             "#f0f921"
            ]
           ],
           "sequentialminus": [
            [
             0,
             "#0d0887"
            ],
            [
             0.1111111111111111,
             "#46039f"
            ],
            [
             0.2222222222222222,
             "#7201a8"
            ],
            [
             0.3333333333333333,
             "#9c179e"
            ],
            [
             0.4444444444444444,
             "#bd3786"
            ],
            [
             0.5555555555555556,
             "#d8576b"
            ],
            [
             0.6666666666666666,
             "#ed7953"
            ],
            [
             0.7777777777777778,
             "#fb9f3a"
            ],
            [
             0.8888888888888888,
             "#fdca26"
            ],
            [
             1,
             "#f0f921"
            ]
           ]
          },
          "colorway": [
           "#636efa",
           "#EF553B",
           "#00cc96",
           "#ab63fa",
           "#FFA15A",
           "#19d3f3",
           "#FF6692",
           "#B6E880",
           "#FF97FF",
           "#FECB52"
          ],
          "font": {
           "color": "#2a3f5f"
          },
          "geo": {
           "bgcolor": "white",
           "lakecolor": "white",
           "landcolor": "#E5ECF6",
           "showlakes": true,
           "showland": true,
           "subunitcolor": "white"
          },
          "hoverlabel": {
           "align": "left"
          },
          "hovermode": "closest",
          "mapbox": {
           "style": "light"
          },
          "paper_bgcolor": "white",
          "plot_bgcolor": "#E5ECF6",
          "polar": {
           "angularaxis": {
            "gridcolor": "white",
            "linecolor": "white",
            "ticks": ""
           },
           "bgcolor": "#E5ECF6",
           "radialaxis": {
            "gridcolor": "white",
            "linecolor": "white",
            "ticks": ""
           }
          },
          "scene": {
           "xaxis": {
            "backgroundcolor": "#E5ECF6",
            "gridcolor": "white",
            "gridwidth": 2,
            "linecolor": "white",
            "showbackground": true,
            "ticks": "",
            "zerolinecolor": "white"
           },
           "yaxis": {
            "backgroundcolor": "#E5ECF6",
            "gridcolor": "white",
            "gridwidth": 2,
            "linecolor": "white",
            "showbackground": true,
            "ticks": "",
            "zerolinecolor": "white"
           },
           "zaxis": {
            "backgroundcolor": "#E5ECF6",
            "gridcolor": "white",
            "gridwidth": 2,
            "linecolor": "white",
            "showbackground": true,
            "ticks": "",
            "zerolinecolor": "white"
           }
          },
          "shapedefaults": {
           "line": {
            "color": "#2a3f5f"
           }
          },
          "ternary": {
           "aaxis": {
            "gridcolor": "white",
            "linecolor": "white",
            "ticks": ""
           },
           "baxis": {
            "gridcolor": "white",
            "linecolor": "white",
            "ticks": ""
           },
           "bgcolor": "#E5ECF6",
           "caxis": {
            "gridcolor": "white",
            "linecolor": "white",
            "ticks": ""
           }
          },
          "title": {
           "x": 0.05
          },
          "xaxis": {
           "automargin": true,
           "gridcolor": "white",
           "linecolor": "white",
           "ticks": "",
           "title": {
            "standoff": 15
           },
           "zerolinecolor": "white",
           "zerolinewidth": 2
          },
          "yaxis": {
           "automargin": true,
           "gridcolor": "white",
           "linecolor": "white",
           "ticks": "",
           "title": {
            "standoff": 15
           },
           "zerolinecolor": "white",
           "zerolinewidth": 2
          }
         }
        },
        "title": {
         "text": "Euclidean Distance vs Log2 FC (Filtered and Highlighted)"
        },
        "xaxis": {
         "title": {
          "text": "Differential Gene Expression (log2 FC)"
         }
        },
        "yaxis": {
         "title": {
          "text": "Per-gene Transcript Abundance Variance Score"
         }
        }
       }
      }
     },
     "metadata": {},
     "output_type": "display_data"
    }
   ],
   "source": [
    "# run comprehensive_gene_analysis\n",
    "mean_df_min = comprehensive_gene_analysis(transcript_to_gene_mapping, TPM_dataframe1, TPM_dataframe2, TPM_dataframe3, TPM_dataframe4, gene_to_transcript_mapping, 2, 0.1)"
   ]
  },
  {
   "cell_type": "code",
   "execution_count": 69,
   "metadata": {},
   "outputs": [
    {
     "data": {
      "application/vnd.plotly.v1+json": {
       "config": {
        "plotlyServerURL": "https://plotly.com"
       },
       "data": [
        {
         "name": "Mean Euclidean Distance (All Genes)",
         "type": "bar",
         "x": [
          "B cell_vs_CLL",
          "B cell_vs_CLL_RS",
          "B cell_vs_RS",
          "CLL_vs_CLL_RS",
          "CLL_vs_RS",
          "CLL_RS_vs_RS"
         ],
         "y": [
          0.08351403968443252,
          0.48169777393793095,
          0.4781405817499493,
          0.5955434478628072,
          0.5577265212544336,
          0.4947888800287571
         ]
        },
        {
         "name": "Mean Absolute logFC (All Genes)",
         "type": "bar",
         "x": [
          "B cell_vs_CLL",
          "B cell_vs_CLL_RS",
          "B cell_vs_RS",
          "CLL_vs_CLL_RS",
          "CLL_vs_RS",
          "CLL_RS_vs_RS"
         ],
         "y": [
          1.1877794939707411,
          1.287061577837869,
          1.242926630822204,
          1.1665794345339355,
          1.0803870509576161,
          0.9637895400588508
         ]
        }
       ],
       "layout": {
        "barmode": "group",
        "template": {
         "data": {
          "bar": [
           {
            "error_x": {
             "color": "#2a3f5f"
            },
            "error_y": {
             "color": "#2a3f5f"
            },
            "marker": {
             "line": {
              "color": "#E5ECF6",
              "width": 0.5
             },
             "pattern": {
              "fillmode": "overlay",
              "size": 10,
              "solidity": 0.2
             }
            },
            "type": "bar"
           }
          ],
          "barpolar": [
           {
            "marker": {
             "line": {
              "color": "#E5ECF6",
              "width": 0.5
             },
             "pattern": {
              "fillmode": "overlay",
              "size": 10,
              "solidity": 0.2
             }
            },
            "type": "barpolar"
           }
          ],
          "carpet": [
           {
            "aaxis": {
             "endlinecolor": "#2a3f5f",
             "gridcolor": "white",
             "linecolor": "white",
             "minorgridcolor": "white",
             "startlinecolor": "#2a3f5f"
            },
            "baxis": {
             "endlinecolor": "#2a3f5f",
             "gridcolor": "white",
             "linecolor": "white",
             "minorgridcolor": "white",
             "startlinecolor": "#2a3f5f"
            },
            "type": "carpet"
           }
          ],
          "choropleth": [
           {
            "colorbar": {
             "outlinewidth": 0,
             "ticks": ""
            },
            "type": "choropleth"
           }
          ],
          "contour": [
           {
            "colorbar": {
             "outlinewidth": 0,
             "ticks": ""
            },
            "colorscale": [
             [
              0,
              "#0d0887"
             ],
             [
              0.1111111111111111,
              "#46039f"
             ],
             [
              0.2222222222222222,
              "#7201a8"
             ],
             [
              0.3333333333333333,
              "#9c179e"
             ],
             [
              0.4444444444444444,
              "#bd3786"
             ],
             [
              0.5555555555555556,
              "#d8576b"
             ],
             [
              0.6666666666666666,
              "#ed7953"
             ],
             [
              0.7777777777777778,
              "#fb9f3a"
             ],
             [
              0.8888888888888888,
              "#fdca26"
             ],
             [
              1,
              "#f0f921"
             ]
            ],
            "type": "contour"
           }
          ],
          "contourcarpet": [
           {
            "colorbar": {
             "outlinewidth": 0,
             "ticks": ""
            },
            "type": "contourcarpet"
           }
          ],
          "heatmap": [
           {
            "colorbar": {
             "outlinewidth": 0,
             "ticks": ""
            },
            "colorscale": [
             [
              0,
              "#0d0887"
             ],
             [
              0.1111111111111111,
              "#46039f"
             ],
             [
              0.2222222222222222,
              "#7201a8"
             ],
             [
              0.3333333333333333,
              "#9c179e"
             ],
             [
              0.4444444444444444,
              "#bd3786"
             ],
             [
              0.5555555555555556,
              "#d8576b"
             ],
             [
              0.6666666666666666,
              "#ed7953"
             ],
             [
              0.7777777777777778,
              "#fb9f3a"
             ],
             [
              0.8888888888888888,
              "#fdca26"
             ],
             [
              1,
              "#f0f921"
             ]
            ],
            "type": "heatmap"
           }
          ],
          "heatmapgl": [
           {
            "colorbar": {
             "outlinewidth": 0,
             "ticks": ""
            },
            "colorscale": [
             [
              0,
              "#0d0887"
             ],
             [
              0.1111111111111111,
              "#46039f"
             ],
             [
              0.2222222222222222,
              "#7201a8"
             ],
             [
              0.3333333333333333,
              "#9c179e"
             ],
             [
              0.4444444444444444,
              "#bd3786"
             ],
             [
              0.5555555555555556,
              "#d8576b"
             ],
             [
              0.6666666666666666,
              "#ed7953"
             ],
             [
              0.7777777777777778,
              "#fb9f3a"
             ],
             [
              0.8888888888888888,
              "#fdca26"
             ],
             [
              1,
              "#f0f921"
             ]
            ],
            "type": "heatmapgl"
           }
          ],
          "histogram": [
           {
            "marker": {
             "pattern": {
              "fillmode": "overlay",
              "size": 10,
              "solidity": 0.2
             }
            },
            "type": "histogram"
           }
          ],
          "histogram2d": [
           {
            "colorbar": {
             "outlinewidth": 0,
             "ticks": ""
            },
            "colorscale": [
             [
              0,
              "#0d0887"
             ],
             [
              0.1111111111111111,
              "#46039f"
             ],
             [
              0.2222222222222222,
              "#7201a8"
             ],
             [
              0.3333333333333333,
              "#9c179e"
             ],
             [
              0.4444444444444444,
              "#bd3786"
             ],
             [
              0.5555555555555556,
              "#d8576b"
             ],
             [
              0.6666666666666666,
              "#ed7953"
             ],
             [
              0.7777777777777778,
              "#fb9f3a"
             ],
             [
              0.8888888888888888,
              "#fdca26"
             ],
             [
              1,
              "#f0f921"
             ]
            ],
            "type": "histogram2d"
           }
          ],
          "histogram2dcontour": [
           {
            "colorbar": {
             "outlinewidth": 0,
             "ticks": ""
            },
            "colorscale": [
             [
              0,
              "#0d0887"
             ],
             [
              0.1111111111111111,
              "#46039f"
             ],
             [
              0.2222222222222222,
              "#7201a8"
             ],
             [
              0.3333333333333333,
              "#9c179e"
             ],
             [
              0.4444444444444444,
              "#bd3786"
             ],
             [
              0.5555555555555556,
              "#d8576b"
             ],
             [
              0.6666666666666666,
              "#ed7953"
             ],
             [
              0.7777777777777778,
              "#fb9f3a"
             ],
             [
              0.8888888888888888,
              "#fdca26"
             ],
             [
              1,
              "#f0f921"
             ]
            ],
            "type": "histogram2dcontour"
           }
          ],
          "mesh3d": [
           {
            "colorbar": {
             "outlinewidth": 0,
             "ticks": ""
            },
            "type": "mesh3d"
           }
          ],
          "parcoords": [
           {
            "line": {
             "colorbar": {
              "outlinewidth": 0,
              "ticks": ""
             }
            },
            "type": "parcoords"
           }
          ],
          "pie": [
           {
            "automargin": true,
            "type": "pie"
           }
          ],
          "scatter": [
           {
            "fillpattern": {
             "fillmode": "overlay",
             "size": 10,
             "solidity": 0.2
            },
            "type": "scatter"
           }
          ],
          "scatter3d": [
           {
            "line": {
             "colorbar": {
              "outlinewidth": 0,
              "ticks": ""
             }
            },
            "marker": {
             "colorbar": {
              "outlinewidth": 0,
              "ticks": ""
             }
            },
            "type": "scatter3d"
           }
          ],
          "scattercarpet": [
           {
            "marker": {
             "colorbar": {
              "outlinewidth": 0,
              "ticks": ""
             }
            },
            "type": "scattercarpet"
           }
          ],
          "scattergeo": [
           {
            "marker": {
             "colorbar": {
              "outlinewidth": 0,
              "ticks": ""
             }
            },
            "type": "scattergeo"
           }
          ],
          "scattergl": [
           {
            "marker": {
             "colorbar": {
              "outlinewidth": 0,
              "ticks": ""
             }
            },
            "type": "scattergl"
           }
          ],
          "scattermapbox": [
           {
            "marker": {
             "colorbar": {
              "outlinewidth": 0,
              "ticks": ""
             }
            },
            "type": "scattermapbox"
           }
          ],
          "scatterpolar": [
           {
            "marker": {
             "colorbar": {
              "outlinewidth": 0,
              "ticks": ""
             }
            },
            "type": "scatterpolar"
           }
          ],
          "scatterpolargl": [
           {
            "marker": {
             "colorbar": {
              "outlinewidth": 0,
              "ticks": ""
             }
            },
            "type": "scatterpolargl"
           }
          ],
          "scatterternary": [
           {
            "marker": {
             "colorbar": {
              "outlinewidth": 0,
              "ticks": ""
             }
            },
            "type": "scatterternary"
           }
          ],
          "surface": [
           {
            "colorbar": {
             "outlinewidth": 0,
             "ticks": ""
            },
            "colorscale": [
             [
              0,
              "#0d0887"
             ],
             [
              0.1111111111111111,
              "#46039f"
             ],
             [
              0.2222222222222222,
              "#7201a8"
             ],
             [
              0.3333333333333333,
              "#9c179e"
             ],
             [
              0.4444444444444444,
              "#bd3786"
             ],
             [
              0.5555555555555556,
              "#d8576b"
             ],
             [
              0.6666666666666666,
              "#ed7953"
             ],
             [
              0.7777777777777778,
              "#fb9f3a"
             ],
             [
              0.8888888888888888,
              "#fdca26"
             ],
             [
              1,
              "#f0f921"
             ]
            ],
            "type": "surface"
           }
          ],
          "table": [
           {
            "cells": {
             "fill": {
              "color": "#EBF0F8"
             },
             "line": {
              "color": "white"
             }
            },
            "header": {
             "fill": {
              "color": "#C8D4E3"
             },
             "line": {
              "color": "white"
             }
            },
            "type": "table"
           }
          ]
         },
         "layout": {
          "annotationdefaults": {
           "arrowcolor": "#2a3f5f",
           "arrowhead": 0,
           "arrowwidth": 1
          },
          "autotypenumbers": "strict",
          "coloraxis": {
           "colorbar": {
            "outlinewidth": 0,
            "ticks": ""
           }
          },
          "colorscale": {
           "diverging": [
            [
             0,
             "#8e0152"
            ],
            [
             0.1,
             "#c51b7d"
            ],
            [
             0.2,
             "#de77ae"
            ],
            [
             0.3,
             "#f1b6da"
            ],
            [
             0.4,
             "#fde0ef"
            ],
            [
             0.5,
             "#f7f7f7"
            ],
            [
             0.6,
             "#e6f5d0"
            ],
            [
             0.7,
             "#b8e186"
            ],
            [
             0.8,
             "#7fbc41"
            ],
            [
             0.9,
             "#4d9221"
            ],
            [
             1,
             "#276419"
            ]
           ],
           "sequential": [
            [
             0,
             "#0d0887"
            ],
            [
             0.1111111111111111,
             "#46039f"
            ],
            [
             0.2222222222222222,
             "#7201a8"
            ],
            [
             0.3333333333333333,
             "#9c179e"
            ],
            [
             0.4444444444444444,
             "#bd3786"
            ],
            [
             0.5555555555555556,
             "#d8576b"
            ],
            [
             0.6666666666666666,
             "#ed7953"
            ],
            [
             0.7777777777777778,
             "#fb9f3a"
            ],
            [
             0.8888888888888888,
             "#fdca26"
            ],
            [
             1,
             "#f0f921"
            ]
           ],
           "sequentialminus": [
            [
             0,
             "#0d0887"
            ],
            [
             0.1111111111111111,
             "#46039f"
            ],
            [
             0.2222222222222222,
             "#7201a8"
            ],
            [
             0.3333333333333333,
             "#9c179e"
            ],
            [
             0.4444444444444444,
             "#bd3786"
            ],
            [
             0.5555555555555556,
             "#d8576b"
            ],
            [
             0.6666666666666666,
             "#ed7953"
            ],
            [
             0.7777777777777778,
             "#fb9f3a"
            ],
            [
             0.8888888888888888,
             "#fdca26"
            ],
            [
             1,
             "#f0f921"
            ]
           ]
          },
          "colorway": [
           "#636efa",
           "#EF553B",
           "#00cc96",
           "#ab63fa",
           "#FFA15A",
           "#19d3f3",
           "#FF6692",
           "#B6E880",
           "#FF97FF",
           "#FECB52"
          ],
          "font": {
           "color": "#2a3f5f"
          },
          "geo": {
           "bgcolor": "white",
           "lakecolor": "white",
           "landcolor": "#E5ECF6",
           "showlakes": true,
           "showland": true,
           "subunitcolor": "white"
          },
          "hoverlabel": {
           "align": "left"
          },
          "hovermode": "closest",
          "mapbox": {
           "style": "light"
          },
          "paper_bgcolor": "white",
          "plot_bgcolor": "#E5ECF6",
          "polar": {
           "angularaxis": {
            "gridcolor": "white",
            "linecolor": "white",
            "ticks": ""
           },
           "bgcolor": "#E5ECF6",
           "radialaxis": {
            "gridcolor": "white",
            "linecolor": "white",
            "ticks": ""
           }
          },
          "scene": {
           "xaxis": {
            "backgroundcolor": "#E5ECF6",
            "gridcolor": "white",
            "gridwidth": 2,
            "linecolor": "white",
            "showbackground": true,
            "ticks": "",
            "zerolinecolor": "white"
           },
           "yaxis": {
            "backgroundcolor": "#E5ECF6",
            "gridcolor": "white",
            "gridwidth": 2,
            "linecolor": "white",
            "showbackground": true,
            "ticks": "",
            "zerolinecolor": "white"
           },
           "zaxis": {
            "backgroundcolor": "#E5ECF6",
            "gridcolor": "white",
            "gridwidth": 2,
            "linecolor": "white",
            "showbackground": true,
            "ticks": "",
            "zerolinecolor": "white"
           }
          },
          "shapedefaults": {
           "line": {
            "color": "#2a3f5f"
           }
          },
          "ternary": {
           "aaxis": {
            "gridcolor": "white",
            "linecolor": "white",
            "ticks": ""
           },
           "baxis": {
            "gridcolor": "white",
            "linecolor": "white",
            "ticks": ""
           },
           "bgcolor": "#E5ECF6",
           "caxis": {
            "gridcolor": "white",
            "linecolor": "white",
            "ticks": ""
           }
          },
          "title": {
           "x": 0.05
          },
          "xaxis": {
           "automargin": true,
           "gridcolor": "white",
           "linecolor": "white",
           "ticks": "",
           "title": {
            "standoff": 15
           },
           "zerolinecolor": "white",
           "zerolinewidth": 2
          },
          "yaxis": {
           "automargin": true,
           "gridcolor": "white",
           "linecolor": "white",
           "ticks": "",
           "title": {
            "standoff": 15
           },
           "zerolinecolor": "white",
           "zerolinewidth": 2
          }
         }
        },
        "title": {
         "text": "Mean Euclidean Distances and Mean Absolute logFC Across Comparison Groups"
        },
        "xaxis": {
         "title": {
          "text": "Comparison Group"
         }
        },
        "yaxis": {
         "title": {
          "text": "Mean Value"
         }
        }
       }
      }
     },
     "metadata": {},
     "output_type": "display_data"
    }
   ],
   "source": [
    "# Example usage\n",
    "plot_mean_euclidean_and_logfc(mean_df_min)"
   ]
  }
 ],
 "metadata": {
  "kernelspec": {
   "display_name": "base",
   "language": "python",
   "name": "python3"
  },
  "language_info": {
   "codemirror_mode": {
    "name": "ipython",
    "version": 3
   },
   "file_extension": ".py",
   "mimetype": "text/x-python",
   "name": "python",
   "nbconvert_exporter": "python",
   "pygments_lexer": "ipython3",
   "version": "3.10.9"
  }
 },
 "nbformat": 4,
 "nbformat_minor": 2
}
