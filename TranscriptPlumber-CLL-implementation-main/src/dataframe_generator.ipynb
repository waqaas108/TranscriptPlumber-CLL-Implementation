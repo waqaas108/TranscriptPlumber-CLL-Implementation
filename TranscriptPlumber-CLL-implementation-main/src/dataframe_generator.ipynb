{
 "cells": [
  {
   "cell_type": "code",
   "execution_count": 1,
   "metadata": {},
   "outputs": [],
   "source": [
    "import pandas as pd\n",
    "import numpy as np\n",
    "import glob\n",
    "import gzip\n",
    "import shutil\n",
    "import os\n",
    "from tqdm import tqdm\n",
    "\n",
    "# set infinite display\n",
    "pd.set_option('display.max_rows', None)\n",
    "pd.set_option('display.max_columns', None)\n",
    "pd.set_option('display.width', None)"
   ]
  },
  {
   "cell_type": "markdown",
   "metadata": {},
   "source": [
    "## Metadata Processing"
   ]
  },
  {
   "cell_type": "code",
   "execution_count": 11,
   "metadata": {},
   "outputs": [],
   "source": [
    "# convert metadata tsvs into dataframes\n",
    "df = pd.read_csv('../../SraRunTable.txt', sep=',')\n",
    "metadata_df = df[['Run', 'source_name', 'cell_type', 'condition']]"
   ]
  },
  {
   "cell_type": "markdown",
   "metadata": {},
   "source": [
    "## Counts Processing"
   ]
  },
  {
   "cell_type": "code",
   "execution_count": 8,
   "metadata": {},
   "outputs": [
    {
     "name": "stderr",
     "output_type": "stream",
     "text": [
      "100%|██████████| 24/24 [00:00<00:00, 10223.78it/s]\n"
     ]
    }
   ],
   "source": [
    "source_dir = \"../../results/\"\n",
    "destination_dir = \"../../Tables/\"\n",
    "\n",
    "# Get a list of all files in the source directory\n",
    "filenames = os.listdir(source_dir)\n",
    "# for each folder in the source directory, find the .sf file, rename it to the folder name, and move it to the destination directory\n",
    "for filename in tqdm(filenames):\n",
    "    folder = source_dir + filename\n",
    "    for file in os.listdir(folder):\n",
    "        if file.endswith('.sf'):\n",
    "            shutil.move(folder + '/' + file, destination_dir + filename + '.sf')"
   ]
  },
  {
   "cell_type": "code",
   "execution_count": 10,
   "metadata": {},
   "outputs": [
    {
     "name": "stderr",
     "output_type": "stream",
     "text": [
      "100%|██████████| 24/24 [00:03<00:00,  7.04it/s]\n"
     ]
    }
   ],
   "source": [
    "# Define the directory where the '.sf' files are located\n",
    "sf_directory = \"../../Tables/\"\n",
    "\n",
    "# Initialize an empty DataFrame to store the results\n",
    "result_df = pd.DataFrame()\n",
    "\n",
    "# List the '.sf' files in the directory\n",
    "sf_files = [f for f in os.listdir(sf_directory) if f.endswith('.sf')]\n",
    "\n",
    "# loop through all .sf files\n",
    "for file in tqdm(sf_files):\n",
    "    # read in the file\n",
    "    df = pd.read_csv(\"../../Tables/\" + file, sep='\\t', header=0)\n",
    "    # keep only the Name and TPM columns\n",
    "    df = df[['Name', 'TPM']]\n",
    "    # rename the TPM column to the filename without the .sf extension\n",
    "    df = df.rename(columns={'TPM': file.split('.')[0]})\n",
    "    # if results_df is empty, then set it to the df dataframe\n",
    "    if result_df.empty:\n",
    "        result_df = df\n",
    "    else:\n",
    "        # merge the dataframe with the result_df dataframe\n",
    "        result_df = pd.merge(result_df, df, on='Name', how='outer')\n",
    "    del df"
   ]
  },
  {
   "cell_type": "markdown",
   "metadata": {},
   "source": [
    "### The dataframes are saved as .csv files"
   ]
  },
  {
   "cell_type": "code",
   "execution_count": 12,
   "metadata": {},
   "outputs": [],
   "source": [
    "# save the results_df dataframe as a tsv file with the name TPM.tsv\n",
    "result_df.to_csv('../../results/TPM.tsv', sep='\\t', index=False)\n",
    "# save the metadata dataframe\n",
    "metadata_df.to_csv('../../results/metadata.tsv', sep='\\t', index=False)"
   ]
  }
 ],
 "metadata": {
  "kernelspec": {
   "display_name": "base",
   "language": "python",
   "name": "python3"
  },
  "language_info": {
   "codemirror_mode": {
    "name": "ipython",
    "version": 3
   },
   "file_extension": ".py",
   "mimetype": "text/x-python",
   "name": "python",
   "nbconvert_exporter": "python",
   "pygments_lexer": "ipython3",
   "version": "3.11.5"
  }
 },
 "nbformat": 4,
 "nbformat_minor": 2
}
